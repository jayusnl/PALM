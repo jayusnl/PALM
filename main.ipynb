{
 "cells": [
  {
   "cell_type": "markdown",
   "metadata": {},
   "source": [
    "# 常规赛：PALM病理性近视预测\n",
    "\n",
    "**赛题简述**\n",
    "\n",
    "\tPALM病理性近视预测常规赛的重点是研究和发展与病理性近视诊断相关的算法。该常规赛的目标是评估和比较在一个常见的视网膜眼底图像数据集上检测病理性近视的自动算法。具体任务是将提供的图像分为病理性近视眼底彩照和非病理性近视眼底彩照，其中，非病理性近视眼底彩照包括正常眼底和高度近视眼底彩照。\n",
    "    \n",
    "![](https://ai-studio-static-online.cdn.bcebos.com/049a11b2a0d6459bbea817529d74be64b69ab7357c8f4990bc56a3b830aa6def)\n",
    "\n",
    "\n",
    "**数据简介**\n",
    "\n",
    "\tPALM病理性近视预测常规赛由中山大学中山眼科中心提供800张带病理性近视分类标注的眼底彩照供选手训练模型，另提供400张带标注数据供平台进行模型测试。本次常规赛提供的病理性近视分类金标准是从临床报告中获取，不仅基于眼底彩照，还结合了OCT、视野检查等结果。\n",
    "\n",
    "**数据基本标签**\n",
    "\n",
    "    非病理：0\n",
    "    病理  ：1\n",
    "\n",
    "**训练数据集**\n",
    "\n",
    "文件名称：Train\n",
    "\n",
    "\tTrain文件夹里有一个fundus_image文件夹和一个Classification.xlsx文件。fundus_image文件夹中数据均为眼底彩照，分辨率为1444×1444，或2124×2056。命名形如N0001.jpg、H0001.jpg、P0001.jpg和V0001.jpg。Classification.xlsx文件中为各眼底图像是否属于病理性近视，属于为1，不属于为0。\n",
    "\n",
    "**测试数据集**\n",
    "\n",
    "文件名称：PALM-Testing400-Images \n",
    "\n",
    "\t文件夹里包含400张眼底彩照，命名形如T0001.jpg。\n"
   ]
  },
  {
   "cell_type": "code",
   "execution_count": null,
   "metadata": {
    "collapsed": false,
    "jupyter": {
     "outputs_hidden": false
    },
    "scrolled": true
   },
   "outputs": [],
   "source": [
    "#解压数据\n",
    "!unzip -oq /home/aistudio/data/data171620/data.zip"
   ]
  },
  {
   "cell_type": "code",
   "execution_count": null,
   "metadata": {
    "collapsed": false,
    "jupyter": {
     "outputs_hidden": false
    },
    "scrolled": true
   },
   "outputs": [],
   "source": [
    "!mv '常规赛：PALM病理性近视预测' dataset"
   ]
  },
  {
   "cell_type": "code",
   "execution_count": 3,
   "metadata": {
    "collapsed": false,
    "jupyter": {
     "outputs_hidden": false
    },
    "scrolled": true
   },
   "outputs": [
    {
     "name": "stderr",
     "output_type": "stream",
     "text": [
      "/opt/conda/envs/python35-paddle120-env/lib/python3.7/site-packages/matplotlib/__init__.py:107: DeprecationWarning: Using or importing the ABCs from 'collections' instead of from 'collections.abc' is deprecated, and in 3.8 it will stop working\n",
      "  from collections import MutableMapping\n",
      "/opt/conda/envs/python35-paddle120-env/lib/python3.7/site-packages/matplotlib/rcsetup.py:20: DeprecationWarning: Using or importing the ABCs from 'collections' instead of from 'collections.abc' is deprecated, and in 3.8 it will stop working\n",
      "  from collections import Iterable, Mapping\n",
      "/opt/conda/envs/python35-paddle120-env/lib/python3.7/site-packages/matplotlib/colors.py:53: DeprecationWarning: Using or importing the ABCs from 'collections' instead of from 'collections.abc' is deprecated, and in 3.8 it will stop working\n",
      "  from collections import Sized\n"
     ]
    },
    {
     "name": "stdout",
     "output_type": "stream",
     "text": [
      "paddle's version: 2.3.2\n"
     ]
    }
   ],
   "source": [
    "#导包\n",
    "import paddle\n",
    "import numpy as np\n",
    "from paddle.vision import transforms\n",
    "from paddle import optimizer as optim\n",
    "from paddle.io import Dataset\n",
    "import matplotlib.pylab as plt\n",
    "import os\n",
    "import pandas as pd\n",
    "from PIL import Image\n",
    "import warnings\n",
    "warnings.filterwarnings(\"ignore\")\n",
    "print(\"paddle's version:\", paddle.__version__)"
   ]
  },
  {
   "cell_type": "code",
   "execution_count": 1,
   "metadata": {
    "collapsed": false,
    "jupyter": {
     "outputs_hidden": false
    },
    "scrolled": true
   },
   "outputs": [
    {
     "name": "stdout",
     "output_type": "stream",
     "text": [
      "Looking in indexes: https://mirror.baidu.com/pypi/simple\n",
      "Requirement already satisfied: paddlex in /opt/conda/envs/python35-paddle120-env/lib/python3.7/site-packages (2.1.0)\n",
      "Requirement already satisfied: motmetrics in /opt/conda/envs/python35-paddle120-env/lib/python3.7/site-packages (from paddlex) (1.2.5)\n",
      "Requirement already satisfied: chardet in /opt/conda/envs/python35-paddle120-env/lib/python3.7/site-packages (from paddlex) (3.0.4)\n",
      "Requirement already satisfied: flask-cors in /opt/conda/envs/python35-paddle120-env/lib/python3.7/site-packages (from paddlex) (3.0.8)\n",
      "Requirement already satisfied: opencv-python in /opt/conda/envs/python35-paddle120-env/lib/python3.7/site-packages (from paddlex) (4.1.1.26)\n",
      "Requirement already satisfied: openpyxl in /opt/conda/envs/python35-paddle120-env/lib/python3.7/site-packages (from paddlex) (3.0.5)\n",
      "Requirement already satisfied: colorama in /opt/conda/envs/python35-paddle120-env/lib/python3.7/site-packages (from paddlex) (0.4.4)\n",
      "Requirement already satisfied: pyyaml in /opt/conda/envs/python35-paddle120-env/lib/python3.7/site-packages (from paddlex) (5.1.2)\n",
      "Requirement already satisfied: tqdm in /opt/conda/envs/python35-paddle120-env/lib/python3.7/site-packages (from paddlex) (4.27.0)\n",
      "Requirement already satisfied: scipy in /opt/conda/envs/python35-paddle120-env/lib/python3.7/site-packages (from paddlex) (1.6.3)\n",
      "Requirement already satisfied: pycocotools in /opt/conda/envs/python35-paddle120-env/lib/python3.7/site-packages (from paddlex) (2.0.5)\n",
      "Requirement already satisfied: visualdl>=2.2.2 in /opt/conda/envs/python35-paddle120-env/lib/python3.7/site-packages (from paddlex) (2.4.0)\n",
      "Requirement already satisfied: scikit-learn==0.23.2 in /opt/conda/envs/python35-paddle120-env/lib/python3.7/site-packages (from paddlex) (0.23.2)\n",
      "Requirement already satisfied: shapely>=1.7.0 in /opt/conda/envs/python35-paddle120-env/lib/python3.7/site-packages (from paddlex) (1.8.4)\n",
      "Requirement already satisfied: paddleslim==2.2.1 in /opt/conda/envs/python35-paddle120-env/lib/python3.7/site-packages (from paddlex) (2.2.1)\n",
      "Requirement already satisfied: lap in /opt/conda/envs/python35-paddle120-env/lib/python3.7/site-packages (from paddlex) (0.4.0)\n",
      "Requirement already satisfied: pyzmq in /opt/conda/envs/python35-paddle120-env/lib/python3.7/site-packages (from paddleslim==2.2.1->paddlex) (23.2.1)\n",
      "Requirement already satisfied: pillow in /opt/conda/envs/python35-paddle120-env/lib/python3.7/site-packages (from paddleslim==2.2.1->paddlex) (8.2.0)\n",
      "Requirement already satisfied: matplotlib in /opt/conda/envs/python35-paddle120-env/lib/python3.7/site-packages (from paddleslim==2.2.1->paddlex) (2.2.3)\n",
      "Requirement already satisfied: threadpoolctl>=2.0.0 in /opt/conda/envs/python35-paddle120-env/lib/python3.7/site-packages (from scikit-learn==0.23.2->paddlex) (2.1.0)\n",
      "Requirement already satisfied: joblib>=0.11 in /opt/conda/envs/python35-paddle120-env/lib/python3.7/site-packages (from scikit-learn==0.23.2->paddlex) (0.14.1)\n",
      "Requirement already satisfied: numpy>=1.13.3 in /opt/conda/envs/python35-paddle120-env/lib/python3.7/site-packages (from scikit-learn==0.23.2->paddlex) (1.19.5)\n",
      "Requirement already satisfied: bce-python-sdk in /opt/conda/envs/python35-paddle120-env/lib/python3.7/site-packages (from visualdl>=2.2.2->paddlex) (0.8.53)\n",
      "Requirement already satisfied: six>=1.14.0 in /opt/conda/envs/python35-paddle120-env/lib/python3.7/site-packages (from visualdl>=2.2.2->paddlex) (1.16.0)\n",
      "Requirement already satisfied: protobuf>=3.11.0 in /opt/conda/envs/python35-paddle120-env/lib/python3.7/site-packages (from visualdl>=2.2.2->paddlex) (3.20.0)\n",
      "Requirement already satisfied: pandas in /opt/conda/envs/python35-paddle120-env/lib/python3.7/site-packages (from visualdl>=2.2.2->paddlex) (1.1.5)\n",
      "Requirement already satisfied: requests in /opt/conda/envs/python35-paddle120-env/lib/python3.7/site-packages (from visualdl>=2.2.2->paddlex) (2.24.0)\n",
      "Requirement already satisfied: Flask-Babel>=1.0.0 in /opt/conda/envs/python35-paddle120-env/lib/python3.7/site-packages (from visualdl>=2.2.2->paddlex) (1.0.0)\n",
      "Requirement already satisfied: flask>=1.1.1 in /opt/conda/envs/python35-paddle120-env/lib/python3.7/site-packages (from visualdl>=2.2.2->paddlex) (1.1.1)\n",
      "Requirement already satisfied: xmltodict>=0.12.0 in /opt/conda/envs/python35-paddle120-env/lib/python3.7/site-packages (from motmetrics->paddlex) (0.13.0)\n",
      "Requirement already satisfied: jdcal in /opt/conda/envs/python35-paddle120-env/lib/python3.7/site-packages (from openpyxl->paddlex) (1.4.1)\n",
      "Requirement already satisfied: et-xmlfile in /opt/conda/envs/python35-paddle120-env/lib/python3.7/site-packages (from openpyxl->paddlex) (1.0.1)\n",
      "Requirement already satisfied: click>=5.1 in /opt/conda/envs/python35-paddle120-env/lib/python3.7/site-packages (from flask>=1.1.1->visualdl>=2.2.2->paddlex) (7.0)\n",
      "Requirement already satisfied: Werkzeug>=0.15 in /opt/conda/envs/python35-paddle120-env/lib/python3.7/site-packages (from flask>=1.1.1->visualdl>=2.2.2->paddlex) (0.16.0)\n",
      "Requirement already satisfied: itsdangerous>=0.24 in /opt/conda/envs/python35-paddle120-env/lib/python3.7/site-packages (from flask>=1.1.1->visualdl>=2.2.2->paddlex) (1.1.0)\n",
      "Requirement already satisfied: Jinja2>=2.10.1 in /opt/conda/envs/python35-paddle120-env/lib/python3.7/site-packages (from flask>=1.1.1->visualdl>=2.2.2->paddlex) (3.0.0)\n",
      "Requirement already satisfied: Babel>=2.3 in /opt/conda/envs/python35-paddle120-env/lib/python3.7/site-packages (from Flask-Babel>=1.0.0->visualdl>=2.2.2->paddlex) (2.8.0)\n",
      "Requirement already satisfied: pytz in /opt/conda/envs/python35-paddle120-env/lib/python3.7/site-packages (from Flask-Babel>=1.0.0->visualdl>=2.2.2->paddlex) (2019.3)\n",
      "Requirement already satisfied: python-dateutil>=2.1 in /opt/conda/envs/python35-paddle120-env/lib/python3.7/site-packages (from matplotlib->paddleslim==2.2.1->paddlex) (2.8.2)\n",
      "Requirement already satisfied: kiwisolver>=1.0.1 in /opt/conda/envs/python35-paddle120-env/lib/python3.7/site-packages (from matplotlib->paddleslim==2.2.1->paddlex) (1.1.0)\n",
      "Requirement already satisfied: cycler>=0.10 in /opt/conda/envs/python35-paddle120-env/lib/python3.7/site-packages (from matplotlib->paddleslim==2.2.1->paddlex) (0.10.0)\n",
      "Requirement already satisfied: pyparsing!=2.0.4,!=2.1.2,!=2.1.6,>=2.0.1 in /opt/conda/envs/python35-paddle120-env/lib/python3.7/site-packages (from matplotlib->paddleslim==2.2.1->paddlex) (3.0.9)\n",
      "Requirement already satisfied: pycryptodome>=3.8.0 in /opt/conda/envs/python35-paddle120-env/lib/python3.7/site-packages (from bce-python-sdk->visualdl>=2.2.2->paddlex) (3.9.9)\n",
      "Requirement already satisfied: future>=0.6.0 in /opt/conda/envs/python35-paddle120-env/lib/python3.7/site-packages (from bce-python-sdk->visualdl>=2.2.2->paddlex) (0.18.0)\n",
      "Requirement already satisfied: urllib3!=1.25.0,!=1.25.1,<1.26,>=1.21.1 in /opt/conda/envs/python35-paddle120-env/lib/python3.7/site-packages (from requests->visualdl>=2.2.2->paddlex) (1.25.6)\n",
      "Requirement already satisfied: certifi>=2017.4.17 in /opt/conda/envs/python35-paddle120-env/lib/python3.7/site-packages (from requests->visualdl>=2.2.2->paddlex) (2019.9.11)\n",
      "Requirement already satisfied: idna<3,>=2.5 in /opt/conda/envs/python35-paddle120-env/lib/python3.7/site-packages (from requests->visualdl>=2.2.2->paddlex) (2.8)\n",
      "Requirement already satisfied: MarkupSafe>=2.0.0rc2 in /opt/conda/envs/python35-paddle120-env/lib/python3.7/site-packages (from Jinja2>=2.10.1->flask>=1.1.1->visualdl>=2.2.2->paddlex) (2.0.1)\n",
      "Requirement already satisfied: setuptools in /opt/conda/envs/python35-paddle120-env/lib/python3.7/site-packages (from kiwisolver>=1.0.1->matplotlib->paddleslim==2.2.1->paddlex) (56.2.0)\n"
     ]
    }
   ],
   "source": [
    "#安装paddlex\r\n",
    "! pip install paddlex -i https://mirror.baidu.com/pypi/simple"
   ]
  },
  {
   "cell_type": "code",
   "execution_count": 2,
   "metadata": {
    "collapsed": false,
    "jupyter": {
     "outputs_hidden": false
    },
    "scrolled": true
   },
   "outputs": [],
   "source": [
    "# 划分训练集和测试集\n",
    "import pandas as pd\n",
    "import random\n",
    "\n",
    "train_excel_file = 'dataset/Train/Classification.xlsx'\n",
    "pd_list=pd.read_excel(train_excel_file)\n",
    "\n",
    "pd_list_lenght=len(pd_list)\n",
    "# 乱序\n",
    "pd_list=pd_list.sample(frac=1)\n",
    "offset=int(pd_list_lenght*0.9)\n",
    "trian_list=pd_list[:offset]\n",
    "eval_list=pd_list[offset:]\n",
    "trian_list.to_csv(\"train_list.txt\", index=None, header=None, sep='\\t')\n",
    "eval_list.to_csv(\"eval_list.txt\", index=None, header=None, sep='\\t')"
   ]
  },
  {
   "cell_type": "code",
   "execution_count": 4,
   "metadata": {
    "collapsed": false,
    "jupyter": {
     "outputs_hidden": false
    },
    "scrolled": true
   },
   "outputs": [
    {
     "name": "stdout",
     "output_type": "stream",
     "text": [
      "[10-15 22:08:01 MainThread @utils.py:79] WRN paddlepaddle version: 2.3.2. The dynamic graph version of PARL is under development, not fully tested and supported\n"
     ]
    },
    {
     "name": "stderr",
     "output_type": "stream",
     "text": [
      "2022-10-15 22:08:02,157-WARNING: type object 'QuantizationTransformPass' has no attribute '_supported_quantizable_op_type'\n",
      "2022-10-15 22:08:02,158-WARNING: If you want to use training-aware and post-training quantization, please use Paddle >= 1.8.4 or develop version\n"
     ]
    }
   ],
   "source": [
    "# 设置使用0号GPU卡（如无GPU，执行此代码后仍然会使用CPU训练模型）\n",
    "import matplotlib\n",
    "matplotlib.use('Agg') \n",
    "import os\n",
    "os.environ['CUDA_VISIBLE_DEVICES'] = '0'"
   ]
  },
  {
   "cell_type": "code",
   "execution_count": 5,
   "metadata": {
    "collapsed": false,
    "jupyter": {
     "outputs_hidden": false
    },
    "scrolled": true
   },
   "outputs": [],
   "source": [
    "import paddlex as pdx\n",
    "from paddlex import transforms as T\n",
    "\n",
    "# 定义训练和验证时的transforms\n",
    "# API说明：https://github.com/PaddlePaddle/PaddleX/blob/develop/docs/apis/transforms/transforms.md\n",
    "\n",
    "train_transforms = T.Compose([\n",
    "    T.RandomCrop(crop_size=1440),#随机裁剪图像\n",
    "    #T.CenterCrop(crop_size=1440),#以图像中心点扩散裁剪长宽为目标尺寸的正方形\n",
    "    T.RandomHorizontalFlip(0.6), #以一定的概率对图像进行随机水平翻转。\n",
    "    T.RandomVerticalFlip(0.2),\n",
    "    T.Normalize()])\n",
    "\n",
    "eval_transforms = T.Compose([\n",
    "    T.ResizeByShort(short_size=1440), #根据图像的短边调整图像大小。\n",
    "    T.CenterCrop(crop_size=1440), \n",
    "    T.Normalize()])#对图像进行标准化"
   ]
  },
  {
   "cell_type": "code",
   "execution_count": 6,
   "metadata": {
    "collapsed": false,
    "jupyter": {
     "outputs_hidden": false
    },
    "scrolled": true
   },
   "outputs": [
    {
     "name": "stdout",
     "output_type": "stream",
     "text": [
      "2022-10-15 22:08:09 [INFO]\tStarting to read file list from dataset...\n",
      "2022-10-15 22:08:09 [INFO]\t720 samples in file train_list.txt\n",
      "2022-10-15 22:08:09 [INFO]\tStarting to read file list from dataset...\n",
      "2022-10-15 22:08:09 [INFO]\t80 samples in file eval_list.txt\n"
     ]
    }
   ],
   "source": [
    "# 定义训练和验证所用的数据集\n",
    "# API说明：https://github.com/PaddlePaddle/PaddleX/blob/develop/docs/apis/datasets.md\n",
    "train_dataset = pdx.datasets.ImageNet(\n",
    "    data_dir='dataset/Train/fundus_image',\n",
    "    file_list='train_list.txt',\n",
    "    label_list='labels.txt',\n",
    "    transforms=train_transforms,\n",
    "    shuffle=True)\n",
    "eval_dataset = pdx.datasets.ImageNet(\n",
    "    data_dir='dataset/Train/fundus_image',\n",
    "    file_list='eval_list.txt',\n",
    "    label_list='labels.txt',\n",
    "    transforms=eval_transforms)"
   ]
  },
  {
   "cell_type": "code",
   "execution_count": 7,
   "metadata": {
    "collapsed": false,
    "jupyter": {
     "outputs_hidden": false
    },
    "scrolled": true
   },
   "outputs": [
    {
     "name": "stdout",
     "output_type": "stream",
     "text": [
      "2022-10-15 22:08:50 [INFO]\tLoading pretrained model from output/mobilenetv3_small_1015_2/pretrain/MobileNetV3_small_x1_0_pretrained.pdparams\n",
      "2022-10-15 22:08:50 [WARNING]\t[SKIP] Shape of pretrained params fc.weight doesn't match.(Pretrained: (1280, 1000), Actual: [1280, 2])\n",
      "2022-10-15 22:08:50 [WARNING]\t[SKIP] Shape of pretrained params fc.bias doesn't match.(Pretrained: (1000,), Actual: [2])\n",
      "2022-10-15 22:08:50 [INFO]\tThere are 212/214 variables loaded into MobileNetV3_small_x1_0.\n"
     ]
    }
   ],
   "source": [
    "# 初始化模型，并进行训练\n",
    "# 可使用VisualDL查看训练指标，参考https://github.com/PaddlePaddle/PaddleX/blob/develop/docs/visualdl.md\n",
    "num_classes = len(train_dataset.labels)\n",
    "model = pdx.cls.MobileNetV3_small(num_classes=num_classes)\n",
    "\n",
    "optimizer = optim.AdamW(learning_rate=3e-4, parameters=model.parameters())\n",
    "\n",
    "#model.prepare(\n",
    "# optimizer=optimizer, #指定优化器\n",
    "# loss=paddle.nn.CrossEntropyLoss(), #指定损失函数\n",
    "# metrics=paddle.metric.Accuracy()#指定评估方法\n",
    "#) \n",
    "\n",
    "\n",
    "\n",
    "#早停机制，在eval_acc不增大10个epoch时停止训练并保存最佳模型\n",
    "early_stop = paddle.callbacks.EarlyStopping(\n",
    "                                            'loss',\n",
    "                                            mode='auto',\n",
    "                                            patience=6,\n",
    "                                            verbose=1,\n",
    "                                            min_delta=0,\n",
    "                                            baseline=None,\n",
    "                                            save_best_model=True)\n",
    "\n",
    "\n",
    "# API说明：https://github.com/PaddlePaddle/PaddleX/blob/develop/docs/apis/models/classification.md\n",
    "# 各参数介绍与调整说明：https://github.com/PaddlePaddle/PaddleX/tree/develop/docs/parameters.md\n",
    "model.train(\n",
    "    num_epochs=10, #训练迭代轮数\n",
    "    train_dataset=train_dataset,#训练数据集\n",
    "    train_batch_size=64,#训练数据batch大小。同时作为验证数据batch大小。默认为64,之前为8\n",
    "    eval_dataset=eval_dataset,#评估数据集\n",
    "    lr_decay_epochs=[4, 6, 8], #默认优化器的学习率衰减轮数。\n",
    "    lr_decay_gamma =0.1,# 默认优化器的学习率衰减率。默认为0.1。\n",
    "    learning_rate=0.025,# 默认优化器的初始学习率。默认为0.025。\n",
    "    save_dir='output/mobilenetv3_small_1015_2',\n",
    "    use_vdl=True)"
   ]
  },
  {
   "cell_type": "markdown",
   "metadata": {},
   "source": [
    "# 模型预测\n",
    "载入想要使用的模型文件，对测试数据进行预测。"
   ]
  },
  {
   "cell_type": "code",
   "execution_count": null,
   "metadata": {
    "collapsed": false,
    "jupyter": {
     "outputs_hidden": false
    },
    "scrolled": true
   },
   "outputs": [
    {
     "name": "stdout",
     "output_type": "stream",
     "text": [
      "2022-10-15 21:31:26 [INFO]\tModel[MobileNetV3_small] loaded.\n",
      "Predict Result: [{'category_id': 1, 'category': '病理性近视眼底', 'score': 0.9992028}, {'category_id': 0, 'category': '非病理性近视眼底', 'score': 0.0007972635}]\n",
      "Predict Result: [{'category_id': 0, 'category': '非病理性近视眼底', 'score': 0.97810304}, {'category_id': 1, 'category': '病理性近视眼底', 'score': 0.021896938}]\n"
     ]
    }
   ],
   "source": [
    "# 单张预测测试\n",
    "import paddlex as pdx\n",
    "model = pdx.load_model('output/mobilenetv3_small_1015_1/epoch_9')\n",
    "image_name = 'dataset/PALM-Testing400-Images/T0001.jpg'\n",
    "result = model.predict(image_name, topk=2)\n",
    "print(\"Predict Result:\", result)\n",
    "\n",
    "\n",
    "image_name = 'dataset/PALM-Testing400-Images/T0002.jpg'\n",
    "result = model.predict(image_name, topk=2)\n",
    "print(\"Predict Result:\", result)"
   ]
  },
  {
   "cell_type": "code",
   "execution_count": null,
   "metadata": {
    "collapsed": false,
    "jupyter": {
     "outputs_hidden": false
    },
    "scrolled": true
   },
   "outputs": [],
   "source": [
    "# 预测数据集val_list\n",
    "val_list=[]\n",
    "for i in range(1,401,1):\n",
    "# for i in range(1,201,1):\n",
    "    filename='T'+ str(i).zfill(4)+'.jpg'\n",
    "    # print(filename)\n",
    "    val_list.append(filename+'\\n')\n",
    "\n",
    "with open('val_list.txt','w') as f:\n",
    "    f.writelines(val_list)\n",
    "    \n",
    "val_list=[]\n",
    "with open('val_list.txt', 'r') as f:\n",
    "    for line in f:\n",
    "        line='dataset/PALM-Testing400-Images/'+line\n",
    "        val_list.append(line.split('\\n')[0])\n",
    "        # print(line.split('\\n')[0])\n",
    "\n",
    "print(len(val_list))\n",
    "print(val_list)\n"
   ]
  },
  {
   "cell_type": "code",
   "execution_count": null,
   "metadata": {
    "collapsed": false,
    "jupyter": {
     "outputs_hidden": false
    },
    "scrolled": true
   },
   "outputs": [
    {
     "name": "stdout",
     "output_type": "stream",
     "text": [
      "2022-10-15 21:31:39 [INFO]\tModel[MobileNetV3_small] loaded.\n",
      "Predict Result: [{'category_id': 1, 'category': '病理性近视眼底', 'score': 0.9998215}, {'category_id': 0, 'category': '非病理性近视眼底', 'score': 0.00017851777}]\n",
      "Predict Result: [{'category_id': 0, 'category': '非病理性近视眼底', 'score': 0.991299}, {'category_id': 1, 'category': '病理性近视眼底', 'score': 0.008700976}]\n",
      "Predict Result: [{'category_id': 0, 'category': '非病理性近视眼底', 'score': 0.99845064}, {'category_id': 1, 'category': '病理性近视眼底', 'score': 0.0015493007}]\n",
      "Predict Result: [{'category_id': 1, 'category': '病理性近视眼底', 'score': 0.9914307}, {'category_id': 0, 'category': '非病理性近视眼底', 'score': 0.008569262}]\n",
      "Predict Result: [{'category_id': 1, 'category': '病理性近视眼底', 'score': 0.9996407}, {'category_id': 0, 'category': '非病理性近视眼底', 'score': 0.00035926126}]\n",
      "Predict Result: [{'category_id': 0, 'category': '非病理性近视眼底', 'score': 0.97740763}, {'category_id': 1, 'category': '病理性近视眼底', 'score': 0.022592394}]\n",
      "Predict Result: [{'category_id': 1, 'category': '病理性近视眼底', 'score': 0.5307391}, {'category_id': 0, 'category': '非病理性近视眼底', 'score': 0.4692609}]\n",
      "Predict Result: [{'category_id': 1, 'category': '病理性近视眼底', 'score': 0.9998734}, {'category_id': 0, 'category': '非病理性近视眼底', 'score': 0.00012654054}]\n",
      "Predict Result: [{'category_id': 1, 'category': '病理性近视眼底', 'score': 0.99997747}, {'category_id': 0, 'category': '非病理性近视眼底', 'score': 2.2589242e-05}]\n",
      "Predict Result: [{'category_id': 1, 'category': '病理性近视眼底', 'score': 0.9988085}, {'category_id': 0, 'category': '非病理性近视眼底', 'score': 0.0011915502}]\n",
      "Predict Result: [{'category_id': 0, 'category': '非病理性近视眼底', 'score': 0.9573925}, {'category_id': 1, 'category': '病理性近视眼底', 'score': 0.042607483}]\n",
      "Predict Result: [{'category_id': 1, 'category': '病理性近视眼底', 'score': 0.9948394}, {'category_id': 0, 'category': '非病理性近视眼底', 'score': 0.0051606563}]\n",
      "Predict Result: [{'category_id': 1, 'category': '病理性近视眼底', 'score': 0.99997294}, {'category_id': 0, 'category': '非病理性近视眼底', 'score': 2.711488e-05}]\n",
      "Predict Result: [{'category_id': 0, 'category': '非病理性近视眼底', 'score': 0.60121185}, {'category_id': 1, 'category': '病理性近视眼底', 'score': 0.39878815}]\n",
      "Predict Result: [{'category_id': 1, 'category': '病理性近视眼底', 'score': 0.9996331}, {'category_id': 0, 'category': '非病理性近视眼底', 'score': 0.0003669273}]\n",
      "Predict Result: [{'category_id': 0, 'category': '非病理性近视眼底', 'score': 0.99951243}, {'category_id': 1, 'category': '病理性近视眼底', 'score': 0.00048756285}]\n",
      "Predict Result: [{'category_id': 0, 'category': '非病理性近视眼底', 'score': 0.99727964}, {'category_id': 1, 'category': '病理性近视眼底', 'score': 0.002720272}]\n",
      "Predict Result: [{'category_id': 1, 'category': '病理性近视眼底', 'score': 0.9998485}, {'category_id': 0, 'category': '非病理性近视眼底', 'score': 0.00015148848}]\n",
      "Predict Result: [{'category_id': 0, 'category': '非病理性近视眼底', 'score': 0.99620503}, {'category_id': 1, 'category': '病理性近视眼底', 'score': 0.003795036}]\n",
      "Predict Result: [{'category_id': 1, 'category': '病理性近视眼底', 'score': 0.720652}, {'category_id': 0, 'category': '非病理性近视眼底', 'score': 0.27934805}]\n",
      "Predict Result: [{'category_id': 0, 'category': '非病理性近视眼底', 'score': 0.99022347}, {'category_id': 1, 'category': '病理性近视眼底', 'score': 0.009776543}]\n",
      "Predict Result: [{'category_id': 0, 'category': '非病理性近视眼底', 'score': 0.997546}, {'category_id': 1, 'category': '病理性近视眼底', 'score': 0.0024540215}]\n",
      "Predict Result: [{'category_id': 1, 'category': '病理性近视眼底', 'score': 0.9999994}, {'category_id': 0, 'category': '非病理性近视眼底', 'score': 5.465817e-07}]\n",
      "Predict Result: [{'category_id': 0, 'category': '非病理性近视眼底', 'score': 0.9949674}, {'category_id': 1, 'category': '病理性近视眼底', 'score': 0.0050325547}]\n",
      "Predict Result: [{'category_id': 0, 'category': '非病理性近视眼底', 'score': 0.99861693}, {'category_id': 1, 'category': '病理性近视眼底', 'score': 0.0013830556}]\n",
      "Predict Result: [{'category_id': 1, 'category': '病理性近视眼底', 'score': 0.99974614}, {'category_id': 0, 'category': '非病理性近视眼底', 'score': 0.00025383165}]\n",
      "Predict Result: [{'category_id': 0, 'category': '非病理性近视眼底', 'score': 0.96407115}, {'category_id': 1, 'category': '病理性近视眼底', 'score': 0.035928834}]\n",
      "Predict Result: [{'category_id': 0, 'category': '非病理性近视眼底', 'score': 0.99666995}, {'category_id': 1, 'category': '病理性近视眼底', 'score': 0.0033300947}]\n",
      "Predict Result: [{'category_id': 1, 'category': '病理性近视眼底', 'score': 0.9769142}, {'category_id': 0, 'category': '非病理性近视眼底', 'score': 0.023085829}]\n",
      "Predict Result: [{'category_id': 0, 'category': '非病理性近视眼底', 'score': 0.9857576}, {'category_id': 1, 'category': '病理性近视眼底', 'score': 0.014242375}]\n",
      "Predict Result: [{'category_id': 0, 'category': '非病理性近视眼底', 'score': 0.93727577}, {'category_id': 1, 'category': '病理性近视眼底', 'score': 0.062724255}]\n",
      "Predict Result: [{'category_id': 0, 'category': '非病理性近视眼底', 'score': 0.9951638}, {'category_id': 1, 'category': '病理性近视眼底', 'score': 0.0048361938}]\n",
      "Predict Result: [{'category_id': 0, 'category': '非病理性近视眼底', 'score': 0.9957366}, {'category_id': 1, 'category': '病理性近视眼底', 'score': 0.0042633526}]\n",
      "Predict Result: [{'category_id': 1, 'category': '病理性近视眼底', 'score': 0.9837749}, {'category_id': 0, 'category': '非病理性近视眼底', 'score': 0.016225073}]\n",
      "Predict Result: [{'category_id': 1, 'category': '病理性近视眼底', 'score': 0.9993037}, {'category_id': 0, 'category': '非病理性近视眼底', 'score': 0.0006963319}]\n",
      "Predict Result: [{'category_id': 1, 'category': '病理性近视眼底', 'score': 0.99850214}, {'category_id': 0, 'category': '非病理性近视眼底', 'score': 0.0014978668}]\n",
      "Predict Result: [{'category_id': 1, 'category': '病理性近视眼底', 'score': 0.9997392}, {'category_id': 0, 'category': '非病理性近视眼底', 'score': 0.00026079567}]\n",
      "Predict Result: [{'category_id': 1, 'category': '病理性近视眼底', 'score': 0.99874675}, {'category_id': 0, 'category': '非病理性近视眼底', 'score': 0.001253252}]\n",
      "Predict Result: [{'category_id': 0, 'category': '非病理性近视眼底', 'score': 0.9954764}, {'category_id': 1, 'category': '病理性近视眼底', 'score': 0.004523596}]\n",
      "Predict Result: [{'category_id': 0, 'category': '非病理性近视眼底', 'score': 0.9916624}, {'category_id': 1, 'category': '病理性近视眼底', 'score': 0.008337583}]\n",
      "Predict Result: [{'category_id': 1, 'category': '病理性近视眼底', 'score': 0.99991155}, {'category_id': 0, 'category': '非病理性近视眼底', 'score': 8.8455716e-05}]\n",
      "Predict Result: [{'category_id': 0, 'category': '非病理性近视眼底', 'score': 0.998575}, {'category_id': 1, 'category': '病理性近视眼底', 'score': 0.0014249891}]\n",
      "Predict Result: [{'category_id': 1, 'category': '病理性近视眼底', 'score': 0.9997013}, {'category_id': 0, 'category': '非病理性近视眼底', 'score': 0.00029866866}]\n",
      "Predict Result: [{'category_id': 0, 'category': '非病理性近视眼底', 'score': 0.9735044}, {'category_id': 1, 'category': '病理性近视眼底', 'score': 0.026495561}]\n",
      "Predict Result: [{'category_id': 0, 'category': '非病理性近视眼底', 'score': 0.99746215}, {'category_id': 1, 'category': '病理性近视眼底', 'score': 0.0025377942}]\n",
      "Predict Result: [{'category_id': 0, 'category': '非病理性近视眼底', 'score': 0.99802315}, {'category_id': 1, 'category': '病理性近视眼底', 'score': 0.0019768095}]\n",
      "Predict Result: [{'category_id': 0, 'category': '非病理性近视眼底', 'score': 0.9981816}, {'category_id': 1, 'category': '病理性近视眼底', 'score': 0.0018184591}]\n",
      "Predict Result: [{'category_id': 0, 'category': '非病理性近视眼底', 'score': 0.996669}, {'category_id': 1, 'category': '病理性近视眼底', 'score': 0.003330997}]\n",
      "Predict Result: [{'category_id': 0, 'category': '非病理性近视眼底', 'score': 0.9962559}, {'category_id': 1, 'category': '病理性近视眼底', 'score': 0.0037440702}]\n",
      "Predict Result: [{'category_id': 1, 'category': '病理性近视眼底', 'score': 0.9993425}, {'category_id': 0, 'category': '非病理性近视眼底', 'score': 0.00065750955}]\n",
      "Predict Result: [{'category_id': 1, 'category': '病理性近视眼底', 'score': 0.9996069}, {'category_id': 0, 'category': '非病理性近视眼底', 'score': 0.00039312657}]\n",
      "Predict Result: [{'category_id': 0, 'category': '非病理性近视眼底', 'score': 0.99837875}, {'category_id': 1, 'category': '病理性近视眼底', 'score': 0.0016212427}]\n",
      "Predict Result: [{'category_id': 0, 'category': '非病理性近视眼底', 'score': 0.9917418}, {'category_id': 1, 'category': '病理性近视眼底', 'score': 0.008258227}]\n",
      "Predict Result: [{'category_id': 1, 'category': '病理性近视眼底', 'score': 0.9984705}, {'category_id': 0, 'category': '非病理性近视眼底', 'score': 0.0015295511}]\n",
      "Predict Result: [{'category_id': 1, 'category': '病理性近视眼底', 'score': 0.99995136}, {'category_id': 0, 'category': '非病理性近视眼底', 'score': 4.859274e-05}]\n",
      "Predict Result: [{'category_id': 0, 'category': '非病理性近视眼底', 'score': 0.5106704}, {'category_id': 1, 'category': '病理性近视眼底', 'score': 0.4893296}]\n",
      "Predict Result: [{'category_id': 0, 'category': '非病理性近视眼底', 'score': 0.9977672}, {'category_id': 1, 'category': '病理性近视眼底', 'score': 0.0022327832}]\n",
      "Predict Result: [{'category_id': 1, 'category': '病理性近视眼底', 'score': 0.9786122}, {'category_id': 0, 'category': '非病理性近视眼底', 'score': 0.021387761}]\n",
      "Predict Result: [{'category_id': 1, 'category': '病理性近视眼底', 'score': 0.99967813}, {'category_id': 0, 'category': '非病理性近视眼底', 'score': 0.00032185542}]\n",
      "Predict Result: [{'category_id': 0, 'category': '非病理性近视眼底', 'score': 0.97016025}, {'category_id': 1, 'category': '病理性近视眼底', 'score': 0.02983975}]\n",
      "Predict Result: [{'category_id': 1, 'category': '病理性近视眼底', 'score': 0.9573659}, {'category_id': 0, 'category': '非病理性近视眼底', 'score': 0.04263418}]\n",
      "Predict Result: [{'category_id': 0, 'category': '非病理性近视眼底', 'score': 0.73708826}, {'category_id': 1, 'category': '病理性近视眼底', 'score': 0.2629117}]\n",
      "Predict Result: [{'category_id': 0, 'category': '非病理性近视眼底', 'score': 0.955819}, {'category_id': 1, 'category': '病理性近视眼底', 'score': 0.044180986}]\n",
      "Predict Result: [{'category_id': 1, 'category': '病理性近视眼底', 'score': 0.9379809}, {'category_id': 0, 'category': '非病理性近视眼底', 'score': 0.062019106}]\n",
      "Predict Result: [{'category_id': 1, 'category': '病理性近视眼底', 'score': 0.7435971}, {'category_id': 0, 'category': '非病理性近视眼底', 'score': 0.2564029}]\n",
      "Predict Result: [{'category_id': 1, 'category': '病理性近视眼底', 'score': 0.999297}, {'category_id': 0, 'category': '非病理性近视眼底', 'score': 0.00070298224}]\n",
      "Predict Result: [{'category_id': 1, 'category': '病理性近视眼底', 'score': 0.9995303}, {'category_id': 0, 'category': '非病理性近视眼底', 'score': 0.0004696686}]\n",
      "Predict Result: [{'category_id': 0, 'category': '非病理性近视眼底', 'score': 0.99747026}, {'category_id': 1, 'category': '病理性近视眼底', 'score': 0.002529703}]\n",
      "Predict Result: [{'category_id': 1, 'category': '病理性近视眼底', 'score': 0.9997762}, {'category_id': 0, 'category': '非病理性近视眼底', 'score': 0.00022383194}]\n",
      "Predict Result: [{'category_id': 0, 'category': '非病理性近视眼底', 'score': 0.9971885}, {'category_id': 1, 'category': '病理性近视眼底', 'score': 0.002811502}]\n",
      "Predict Result: [{'category_id': 1, 'category': '病理性近视眼底', 'score': 0.98292404}, {'category_id': 0, 'category': '非病理性近视眼底', 'score': 0.017076}]\n",
      "Predict Result: [{'category_id': 1, 'category': '病理性近视眼底', 'score': 0.99999285}, {'category_id': 0, 'category': '非病理性近视眼底', 'score': 7.152404e-06}]\n",
      "Predict Result: [{'category_id': 1, 'category': '病理性近视眼底', 'score': 0.9998068}, {'category_id': 0, 'category': '非病理性近视眼底', 'score': 0.00019321614}]\n",
      "Predict Result: [{'category_id': 1, 'category': '病理性近视眼底', 'score': 0.99989426}, {'category_id': 0, 'category': '非病理性近视眼底', 'score': 0.00010568584}]\n",
      "Predict Result: [{'category_id': 1, 'category': '病理性近视眼底', 'score': 0.98568314}, {'category_id': 0, 'category': '非病理性近视眼底', 'score': 0.014316883}]\n",
      "Predict Result: [{'category_id': 0, 'category': '非病理性近视眼底', 'score': 0.9958288}, {'category_id': 1, 'category': '病理性近视眼底', 'score': 0.004171185}]\n",
      "Predict Result: [{'category_id': 0, 'category': '非病理性近视眼底', 'score': 0.99159884}, {'category_id': 1, 'category': '病理性近视眼底', 'score': 0.0084011955}]\n",
      "Predict Result: [{'category_id': 0, 'category': '非病理性近视眼底', 'score': 0.99650204}, {'category_id': 1, 'category': '病理性近视眼底', 'score': 0.0034979843}]\n",
      "Predict Result: [{'category_id': 1, 'category': '病理性近视眼底', 'score': 0.8742513}, {'category_id': 0, 'category': '非病理性近视眼底', 'score': 0.12574875}]\n",
      "Predict Result: [{'category_id': 1, 'category': '病理性近视眼底', 'score': 0.999964}, {'category_id': 0, 'category': '非病理性近视眼底', 'score': 3.6039884e-05}]\n",
      "Predict Result: [{'category_id': 1, 'category': '病理性近视眼底', 'score': 0.976761}, {'category_id': 0, 'category': '非病理性近视眼底', 'score': 0.023238992}]\n",
      "Predict Result: [{'category_id': 1, 'category': '病理性近视眼底', 'score': 0.9995572}, {'category_id': 0, 'category': '非病理性近视眼底', 'score': 0.00044279575}]\n",
      "Predict Result: [{'category_id': 0, 'category': '非病理性近视眼底', 'score': 0.99634236}, {'category_id': 1, 'category': '病理性近视眼底', 'score': 0.003657653}]\n",
      "Predict Result: [{'category_id': 0, 'category': '非病理性近视眼底', 'score': 0.99805105}, {'category_id': 1, 'category': '病理性近视眼底', 'score': 0.0019490164}]\n",
      "Predict Result: [{'category_id': 1, 'category': '病理性近视眼底', 'score': 0.99963784}, {'category_id': 0, 'category': '非病理性近视眼底', 'score': 0.00036209074}]\n",
      "Predict Result: [{'category_id': 1, 'category': '病理性近视眼底', 'score': 0.99995947}, {'category_id': 0, 'category': '非病理性近视眼底', 'score': 4.056447e-05}]\n",
      "Predict Result: [{'category_id': 1, 'category': '病理性近视眼底', 'score': 0.99994075}, {'category_id': 0, 'category': '非病理性近视眼底', 'score': 5.9283633e-05}]\n",
      "Predict Result: [{'category_id': 1, 'category': '病理性近视眼底', 'score': 0.983835}, {'category_id': 0, 'category': '非病理性近视眼底', 'score': 0.016165001}]\n",
      "Predict Result: [{'category_id': 0, 'category': '非病理性近视眼底', 'score': 0.9953621}, {'category_id': 1, 'category': '病理性近视眼底', 'score': 0.0046378733}]\n",
      "Predict Result: [{'category_id': 0, 'category': '非病理性近视眼底', 'score': 0.9970035}, {'category_id': 1, 'category': '病理性近视眼底', 'score': 0.0029964736}]\n",
      "Predict Result: [{'category_id': 1, 'category': '病理性近视眼底', 'score': 0.99947673}, {'category_id': 0, 'category': '非病理性近视眼底', 'score': 0.00052324403}]\n",
      "Predict Result: [{'category_id': 1, 'category': '病理性近视眼底', 'score': 0.9984275}, {'category_id': 0, 'category': '非病理性近视眼底', 'score': 0.0015724576}]\n",
      "Predict Result: [{'category_id': 0, 'category': '非病理性近视眼底', 'score': 0.9881726}, {'category_id': 1, 'category': '病理性近视眼底', 'score': 0.011827458}]\n",
      "Predict Result: [{'category_id': 0, 'category': '非病理性近视眼底', 'score': 0.63948745}, {'category_id': 1, 'category': '病理性近视眼底', 'score': 0.36051255}]\n",
      "Predict Result: [{'category_id': 0, 'category': '非病理性近视眼底', 'score': 0.99765414}, {'category_id': 1, 'category': '病理性近视眼底', 'score': 0.0023458605}]\n",
      "Predict Result: [{'category_id': 0, 'category': '非病理性近视眼底', 'score': 0.89970505}, {'category_id': 1, 'category': '病理性近视眼底', 'score': 0.10029498}]\n",
      "Predict Result: [{'category_id': 1, 'category': '病理性近视眼底', 'score': 0.9091836}, {'category_id': 0, 'category': '非病理性近视眼底', 'score': 0.09081641}]\n",
      "Predict Result: [{'category_id': 0, 'category': '非病理性近视眼底', 'score': 0.9936784}, {'category_id': 1, 'category': '病理性近视眼底', 'score': 0.006321603}]\n",
      "Predict Result: [{'category_id': 0, 'category': '非病理性近视眼底', 'score': 0.9976476}, {'category_id': 1, 'category': '病理性近视眼底', 'score': 0.0023524496}]\n",
      "Predict Result: [{'category_id': 1, 'category': '病理性近视眼底', 'score': 0.7852713}, {'category_id': 0, 'category': '非病理性近视眼底', 'score': 0.21472868}]\n",
      "Predict Result: [{'category_id': 1, 'category': '病理性近视眼底', 'score': 0.9933743}, {'category_id': 0, 'category': '非病理性近视眼底', 'score': 0.006625707}]\n",
      "Predict Result: [{'category_id': 1, 'category': '病理性近视眼底', 'score': 0.9931445}, {'category_id': 0, 'category': '非病理性近视眼底', 'score': 0.0068555167}]\n",
      "Predict Result: [{'category_id': 0, 'category': '非病理性近视眼底', 'score': 0.99673635}, {'category_id': 1, 'category': '病理性近视眼底', 'score': 0.0032635909}]\n",
      "Predict Result: [{'category_id': 0, 'category': '非病理性近视眼底', 'score': 0.99457043}, {'category_id': 1, 'category': '病理性近视眼底', 'score': 0.0054295305}]\n",
      "Predict Result: [{'category_id': 1, 'category': '病理性近视眼底', 'score': 0.99941146}, {'category_id': 0, 'category': '非病理性近视眼底', 'score': 0.0005885156}]\n",
      "Predict Result: [{'category_id': 1, 'category': '病理性近视眼底', 'score': 0.99939144}, {'category_id': 0, 'category': '非病理性近视眼底', 'score': 0.0006085911}]\n",
      "Predict Result: [{'category_id': 1, 'category': '病理性近视眼底', 'score': 0.99901164}, {'category_id': 0, 'category': '非病理性近视眼底', 'score': 0.0009883614}]\n",
      "Predict Result: [{'category_id': 0, 'category': '非病理性近视眼底', 'score': 0.99652123}, {'category_id': 1, 'category': '病理性近视眼底', 'score': 0.003478753}]\n",
      "Predict Result: [{'category_id': 1, 'category': '病理性近视眼底', 'score': 0.94438696}, {'category_id': 0, 'category': '非病理性近视眼底', 'score': 0.055613004}]\n",
      "Predict Result: [{'category_id': 1, 'category': '病理性近视眼底', 'score': 0.9999521}, {'category_id': 0, 'category': '非病理性近视眼底', 'score': 4.7882728e-05}]\n",
      "Predict Result: [{'category_id': 0, 'category': '非病理性近视眼底', 'score': 0.58071697}, {'category_id': 1, 'category': '病理性近视眼底', 'score': 0.41928306}]\n",
      "Predict Result: [{'category_id': 0, 'category': '非病理性近视眼底', 'score': 0.98684597}, {'category_id': 1, 'category': '病理性近视眼底', 'score': 0.013154075}]\n",
      "Predict Result: [{'category_id': 1, 'category': '病理性近视眼底', 'score': 0.9991829}, {'category_id': 0, 'category': '非病理性近视眼底', 'score': 0.0008170666}]\n",
      "Predict Result: [{'category_id': 1, 'category': '病理性近视眼底', 'score': 0.99978775}, {'category_id': 0, 'category': '非病理性近视眼底', 'score': 0.00021227926}]\n",
      "Predict Result: [{'category_id': 1, 'category': '病理性近视眼底', 'score': 0.99618906}, {'category_id': 0, 'category': '非病理性近视眼底', 'score': 0.0038110223}]\n",
      "Predict Result: [{'category_id': 1, 'category': '病理性近视眼底', 'score': 0.9896255}, {'category_id': 0, 'category': '非病理性近视眼底', 'score': 0.010374509}]\n",
      "Predict Result: [{'category_id': 0, 'category': '非病理性近视眼底', 'score': 0.96244806}, {'category_id': 1, 'category': '病理性近视眼底', 'score': 0.037551954}]\n",
      "Predict Result: [{'category_id': 0, 'category': '非病理性近视眼底', 'score': 0.99628025}, {'category_id': 1, 'category': '病理性近视眼底', 'score': 0.0037197892}]\n",
      "Predict Result: [{'category_id': 0, 'category': '非病理性近视眼底', 'score': 0.9949008}, {'category_id': 1, 'category': '病理性近视眼底', 'score': 0.0050991094}]\n",
      "Predict Result: [{'category_id': 0, 'category': '非病理性近视眼底', 'score': 0.9875295}, {'category_id': 1, 'category': '病理性近视眼底', 'score': 0.012470489}]\n",
      "Predict Result: [{'category_id': 0, 'category': '非病理性近视眼底', 'score': 0.99711204}, {'category_id': 1, 'category': '病理性近视眼底', 'score': 0.0028879852}]\n",
      "Predict Result: [{'category_id': 1, 'category': '病理性近视眼底', 'score': 0.9999547}, {'category_id': 0, 'category': '非病理性近视眼底', 'score': 4.5339548e-05}]\n",
      "Predict Result: [{'category_id': 1, 'category': '病理性近视眼底', 'score': 0.99909675}, {'category_id': 0, 'category': '非病理性近视眼底', 'score': 0.0009032359}]\n",
      "Predict Result: [{'category_id': 1, 'category': '病理性近视眼底', 'score': 0.9963894}, {'category_id': 0, 'category': '非病理性近视眼底', 'score': 0.003610626}]\n",
      "Predict Result: [{'category_id': 0, 'category': '非病理性近视眼底', 'score': 0.9961222}, {'category_id': 1, 'category': '病理性近视眼底', 'score': 0.0038778477}]\n",
      "Predict Result: [{'category_id': 1, 'category': '病理性近视眼底', 'score': 0.9988422}, {'category_id': 0, 'category': '非病理性近视眼底', 'score': 0.001157848}]\n",
      "Predict Result: [{'category_id': 1, 'category': '病理性近视眼底', 'score': 0.999647}, {'category_id': 0, 'category': '非病理性近视眼底', 'score': 0.00035296296}]\n",
      "Predict Result: [{'category_id': 0, 'category': '非病理性近视眼底', 'score': 0.9953963}, {'category_id': 1, 'category': '病理性近视眼底', 'score': 0.0046036793}]\n",
      "Predict Result: [{'category_id': 0, 'category': '非病理性近视眼底', 'score': 0.9976921}, {'category_id': 1, 'category': '病理性近视眼底', 'score': 0.0023079023}]\n",
      "Predict Result: [{'category_id': 1, 'category': '病理性近视眼底', 'score': 0.99983335}, {'category_id': 0, 'category': '非病理性近视眼底', 'score': 0.00016660655}]\n",
      "Predict Result: [{'category_id': 1, 'category': '病理性近视眼底', 'score': 0.99978346}, {'category_id': 0, 'category': '非病理性近视眼底', 'score': 0.00021649842}]\n",
      "Predict Result: [{'category_id': 1, 'category': '病理性近视眼底', 'score': 0.5499914}, {'category_id': 0, 'category': '非病理性近视眼底', 'score': 0.45000863}]\n",
      "Predict Result: [{'category_id': 1, 'category': '病理性近视眼底', 'score': 0.99998903}, {'category_id': 0, 'category': '非病理性近视眼底', 'score': 1.0952622e-05}]\n",
      "Predict Result: [{'category_id': 1, 'category': '病理性近视眼底', 'score': 0.9790636}, {'category_id': 0, 'category': '非病理性近视眼底', 'score': 0.02093644}]\n",
      "Predict Result: [{'category_id': 0, 'category': '非病理性近视眼底', 'score': 0.94330686}, {'category_id': 1, 'category': '病理性近视眼底', 'score': 0.056693207}]\n",
      "Predict Result: [{'category_id': 1, 'category': '病理性近视眼底', 'score': 0.9999119}, {'category_id': 0, 'category': '非病理性近视眼底', 'score': 8.804319e-05}]\n",
      "Predict Result: [{'category_id': 1, 'category': '病理性近视眼底', 'score': 0.9505436}, {'category_id': 0, 'category': '非病理性近视眼底', 'score': 0.049456444}]\n",
      "Predict Result: [{'category_id': 0, 'category': '非病理性近视眼底', 'score': 0.99559695}, {'category_id': 1, 'category': '病理性近视眼底', 'score': 0.0044031073}]\n",
      "Predict Result: [{'category_id': 1, 'category': '病理性近视眼底', 'score': 0.9997663}, {'category_id': 0, 'category': '非病理性近视眼底', 'score': 0.00023371697}]\n",
      "Predict Result: [{'category_id': 1, 'category': '病理性近视眼底', 'score': 0.5624107}, {'category_id': 0, 'category': '非病理性近视眼底', 'score': 0.4375893}]\n",
      "Predict Result: [{'category_id': 1, 'category': '病理性近视眼底', 'score': 0.8814976}, {'category_id': 0, 'category': '非病理性近视眼底', 'score': 0.11850234}]\n",
      "Predict Result: [{'category_id': 1, 'category': '病理性近视眼底', 'score': 0.7535203}, {'category_id': 0, 'category': '非病理性近视眼底', 'score': 0.24647966}]\n",
      "Predict Result: [{'category_id': 1, 'category': '病理性近视眼底', 'score': 0.99968636}, {'category_id': 0, 'category': '非病理性近视眼底', 'score': 0.00031368464}]\n",
      "Predict Result: [{'category_id': 0, 'category': '非病理性近视眼底', 'score': 0.9948014}, {'category_id': 1, 'category': '病理性近视眼底', 'score': 0.0051985877}]\n",
      "Predict Result: [{'category_id': 1, 'category': '病理性近视眼底', 'score': 0.99969816}, {'category_id': 0, 'category': '非病理性近视眼底', 'score': 0.00030188498}]\n",
      "Predict Result: [{'category_id': 0, 'category': '非病理性近视眼底', 'score': 0.78485006}, {'category_id': 1, 'category': '病理性近视眼底', 'score': 0.21514988}]\n",
      "Predict Result: [{'category_id': 0, 'category': '非病理性近视眼底', 'score': 0.99488455}, {'category_id': 1, 'category': '病理性近视眼底', 'score': 0.0051154885}]\n",
      "Predict Result: [{'category_id': 1, 'category': '病理性近视眼底', 'score': 0.9940767}, {'category_id': 0, 'category': '非病理性近视眼底', 'score': 0.005923292}]\n",
      "Predict Result: [{'category_id': 0, 'category': '非病理性近视眼底', 'score': 0.9965262}, {'category_id': 1, 'category': '病理性近视眼底', 'score': 0.0034737543}]\n",
      "Predict Result: [{'category_id': 0, 'category': '非病理性近视眼底', 'score': 0.6924731}, {'category_id': 1, 'category': '病理性近视眼底', 'score': 0.30752695}]\n",
      "Predict Result: [{'category_id': 1, 'category': '病理性近视眼底', 'score': 0.98315746}, {'category_id': 0, 'category': '非病理性近视眼底', 'score': 0.01684261}]\n",
      "Predict Result: [{'category_id': 1, 'category': '病理性近视眼底', 'score': 0.98809195}, {'category_id': 0, 'category': '非病理性近视眼底', 'score': 0.011908103}]\n",
      "Predict Result: [{'category_id': 1, 'category': '病理性近视眼底', 'score': 0.9892547}, {'category_id': 0, 'category': '非病理性近视眼底', 'score': 0.010745331}]\n",
      "Predict Result: [{'category_id': 1, 'category': '病理性近视眼底', 'score': 0.99369013}, {'category_id': 0, 'category': '非病理性近视眼底', 'score': 0.0063098306}]\n",
      "Predict Result: [{'category_id': 1, 'category': '病理性近视眼底', 'score': 0.9999341}, {'category_id': 0, 'category': '非病理性近视眼底', 'score': 6.5868655e-05}]\n",
      "Predict Result: [{'category_id': 0, 'category': '非病理性近视眼底', 'score': 0.99859554}, {'category_id': 1, 'category': '病理性近视眼底', 'score': 0.001404496}]\n",
      "Predict Result: [{'category_id': 0, 'category': '非病理性近视眼底', 'score': 0.99657357}, {'category_id': 1, 'category': '病理性近视眼底', 'score': 0.003426468}]\n",
      "Predict Result: [{'category_id': 1, 'category': '病理性近视眼底', 'score': 0.996968}, {'category_id': 0, 'category': '非病理性近视眼底', 'score': 0.0030320555}]\n",
      "Predict Result: [{'category_id': 1, 'category': '病理性近视眼底', 'score': 0.99993336}, {'category_id': 0, 'category': '非病理性近视眼底', 'score': 6.664957e-05}]\n",
      "Predict Result: [{'category_id': 1, 'category': '病理性近视眼底', 'score': 0.9990107}, {'category_id': 0, 'category': '非病理性近视眼底', 'score': 0.0009893497}]\n",
      "Predict Result: [{'category_id': 0, 'category': '非病理性近视眼底', 'score': 0.99730647}, {'category_id': 1, 'category': '病理性近视眼底', 'score': 0.0026935246}]\n",
      "Predict Result: [{'category_id': 0, 'category': '非病理性近视眼底', 'score': 0.9945686}, {'category_id': 1, 'category': '病理性近视眼底', 'score': 0.005431465}]\n",
      "Predict Result: [{'category_id': 0, 'category': '非病理性近视眼底', 'score': 0.98446214}, {'category_id': 1, 'category': '病理性近视眼底', 'score': 0.015537842}]\n",
      "Predict Result: [{'category_id': 0, 'category': '非病理性近视眼底', 'score': 0.9972047}, {'category_id': 1, 'category': '病理性近视眼底', 'score': 0.0027952618}]\n",
      "Predict Result: [{'category_id': 0, 'category': '非病理性近视眼底', 'score': 0.9972187}, {'category_id': 1, 'category': '病理性近视眼底', 'score': 0.0027812622}]\n",
      "Predict Result: [{'category_id': 1, 'category': '病理性近视眼底', 'score': 0.9995012}, {'category_id': 0, 'category': '非病理性近视眼底', 'score': 0.0004987526}]\n",
      "Predict Result: [{'category_id': 1, 'category': '病理性近视眼底', 'score': 0.9999472}, {'category_id': 0, 'category': '非病理性近视眼底', 'score': 5.277327e-05}]\n",
      "Predict Result: [{'category_id': 0, 'category': '非病理性近视眼底', 'score': 0.99772483}, {'category_id': 1, 'category': '病理性近视眼底', 'score': 0.0022751745}]\n",
      "Predict Result: [{'category_id': 0, 'category': '非病理性近视眼底', 'score': 0.99448264}, {'category_id': 1, 'category': '病理性近视眼底', 'score': 0.0055174}]\n",
      "Predict Result: [{'category_id': 1, 'category': '病理性近视眼底', 'score': 0.9999956}, {'category_id': 0, 'category': '非病理性近视眼底', 'score': 4.4111684e-06}]\n",
      "Predict Result: [{'category_id': 0, 'category': '非病理性近视眼底', 'score': 0.99737275}, {'category_id': 1, 'category': '病理性近视眼底', 'score': 0.0026272149}]\n",
      "Predict Result: [{'category_id': 1, 'category': '病理性近视眼底', 'score': 0.87101203}, {'category_id': 0, 'category': '非病理性近视眼底', 'score': 0.12898795}]\n",
      "Predict Result: [{'category_id': 1, 'category': '病理性近视眼底', 'score': 0.99960417}, {'category_id': 0, 'category': '非病理性近视眼底', 'score': 0.00039586134}]\n",
      "Predict Result: [{'category_id': 1, 'category': '病理性近视眼底', 'score': 0.9997061}, {'category_id': 0, 'category': '非病理性近视眼底', 'score': 0.00029391737}]\n",
      "Predict Result: [{'category_id': 1, 'category': '病理性近视眼底', 'score': 0.9976979}, {'category_id': 0, 'category': '非病理性近视眼底', 'score': 0.002302093}]\n",
      "Predict Result: [{'category_id': 1, 'category': '病理性近视眼底', 'score': 0.999153}, {'category_id': 0, 'category': '非病理性近视眼底', 'score': 0.0008469558}]\n",
      "Predict Result: [{'category_id': 1, 'category': '病理性近视眼底', 'score': 0.99978036}, {'category_id': 0, 'category': '非病理性近视眼底', 'score': 0.00021970291}]\n",
      "Predict Result: [{'category_id': 1, 'category': '病理性近视眼底', 'score': 0.99959}, {'category_id': 0, 'category': '非病理性近视眼底', 'score': 0.00040997996}]\n",
      "Predict Result: [{'category_id': 0, 'category': '非病理性近视眼底', 'score': 0.996775}, {'category_id': 1, 'category': '病理性近视眼底', 'score': 0.0032250495}]\n",
      "Predict Result: [{'category_id': 1, 'category': '病理性近视眼底', 'score': 0.5020846}, {'category_id': 0, 'category': '非病理性近视眼底', 'score': 0.4979154}]\n",
      "Predict Result: [{'category_id': 1, 'category': '病理性近视眼底', 'score': 0.9998367}, {'category_id': 0, 'category': '非病理性近视眼底', 'score': 0.00016326079}]\n",
      "Predict Result: [{'category_id': 1, 'category': '病理性近视眼底', 'score': 0.9995228}, {'category_id': 0, 'category': '非病理性近视眼底', 'score': 0.00047722322}]\n",
      "Predict Result: [{'category_id': 0, 'category': '非病理性近视眼底', 'score': 0.7006799}, {'category_id': 1, 'category': '病理性近视眼底', 'score': 0.29932007}]\n",
      "Predict Result: [{'category_id': 0, 'category': '非病理性近视眼底', 'score': 0.9990922}, {'category_id': 1, 'category': '病理性近视眼底', 'score': 0.000907801}]\n",
      "Predict Result: [{'category_id': 0, 'category': '非病理性近视眼底', 'score': 0.99089396}, {'category_id': 1, 'category': '病理性近视眼底', 'score': 0.009106057}]\n",
      "Predict Result: [{'category_id': 0, 'category': '非病理性近视眼底', 'score': 0.9992112}, {'category_id': 1, 'category': '病理性近视眼底', 'score': 0.00078877195}]\n",
      "Predict Result: [{'category_id': 0, 'category': '非病理性近视眼底', 'score': 0.9970757}, {'category_id': 1, 'category': '病理性近视眼底', 'score': 0.0029242907}]\n",
      "Predict Result: [{'category_id': 1, 'category': '病理性近视眼底', 'score': 0.99920183}, {'category_id': 0, 'category': '非病理性近视眼底', 'score': 0.00079821335}]\n",
      "Predict Result: [{'category_id': 0, 'category': '非病理性近视眼底', 'score': 0.9928174}, {'category_id': 1, 'category': '病理性近视眼底', 'score': 0.0071826125}]\n",
      "Predict Result: [{'category_id': 1, 'category': '病理性近视眼底', 'score': 0.93442136}, {'category_id': 0, 'category': '非病理性近视眼底', 'score': 0.065578684}]\n",
      "Predict Result: [{'category_id': 1, 'category': '病理性近视眼底', 'score': 0.8870963}, {'category_id': 0, 'category': '非病理性近视眼底', 'score': 0.112903714}]\n",
      "Predict Result: [{'category_id': 0, 'category': '非病理性近视眼底', 'score': 0.99496007}, {'category_id': 1, 'category': '病理性近视眼底', 'score': 0.0050399117}]\n",
      "Predict Result: [{'category_id': 0, 'category': '非病理性近视眼底', 'score': 0.99601895}, {'category_id': 1, 'category': '病理性近视眼底', 'score': 0.003981098}]\n",
      "Predict Result: [{'category_id': 1, 'category': '病理性近视眼底', 'score': 0.9998734}, {'category_id': 0, 'category': '非病理性近视眼底', 'score': 0.00012654054}]\n",
      "Predict Result: [{'category_id': 0, 'category': '非病理性近视眼底', 'score': 0.8773993}, {'category_id': 1, 'category': '病理性近视眼底', 'score': 0.122600675}]\n",
      "Predict Result: [{'category_id': 1, 'category': '病理性近视眼底', 'score': 0.99806434}, {'category_id': 0, 'category': '非病理性近视眼底', 'score': 0.0019356515}]\n",
      "Predict Result: [{'category_id': 0, 'category': '非病理性近视眼底', 'score': 0.9975714}, {'category_id': 1, 'category': '病理性近视眼底', 'score': 0.0024286057}]\n",
      "Predict Result: [{'category_id': 1, 'category': '病理性近视眼底', 'score': 0.9993837}, {'category_id': 0, 'category': '非病理性近视眼底', 'score': 0.0006162516}]\n",
      "Predict Result: [{'category_id': 0, 'category': '非病理性近视眼底', 'score': 0.9976011}, {'category_id': 1, 'category': '病理性近视眼底', 'score': 0.0023989312}]\n",
      "Predict Result: [{'category_id': 0, 'category': '非病理性近视眼底', 'score': 0.99258864}, {'category_id': 1, 'category': '病理性近视眼底', 'score': 0.007411358}]\n",
      "Predict Result: [{'category_id': 1, 'category': '病理性近视眼底', 'score': 0.9999968}, {'category_id': 0, 'category': '非病理性近视眼底', 'score': 3.195668e-06}]\n",
      "Predict Result: [{'category_id': 0, 'category': '非病理性近视眼底', 'score': 0.9984251}, {'category_id': 1, 'category': '病理性近视眼底', 'score': 0.0015748469}]\n",
      "Predict Result: [{'category_id': 1, 'category': '病理性近视眼底', 'score': 0.99917525}, {'category_id': 0, 'category': '非病理性近视眼底', 'score': 0.00082473125}]\n",
      "Predict Result: [{'category_id': 0, 'category': '非病理性近视眼底', 'score': 0.9884975}, {'category_id': 1, 'category': '病理性近视眼底', 'score': 0.011502575}]\n",
      "Predict Result: [{'category_id': 0, 'category': '非病理性近视眼底', 'score': 0.9979159}, {'category_id': 1, 'category': '病理性近视眼底', 'score': 0.002084101}]\n",
      "Predict Result: [{'category_id': 1, 'category': '病理性近视眼底', 'score': 0.9988887}, {'category_id': 0, 'category': '非病理性近视眼底', 'score': 0.0011113782}]\n",
      "Predict Result: [{'category_id': 1, 'category': '病理性近视眼底', 'score': 0.9920175}, {'category_id': 0, 'category': '非病理性近视眼底', 'score': 0.007982548}]\n",
      "Predict Result: [{'category_id': 1, 'category': '病理性近视眼底', 'score': 0.9667623}, {'category_id': 0, 'category': '非病理性近视眼底', 'score': 0.033237725}]\n",
      "Predict Result: [{'category_id': 1, 'category': '病理性近视眼底', 'score': 0.6476488}, {'category_id': 0, 'category': '非病理性近视眼底', 'score': 0.35235116}]\n",
      "Predict Result: [{'category_id': 1, 'category': '病理性近视眼底', 'score': 0.89177954}, {'category_id': 0, 'category': '非病理性近视眼底', 'score': 0.10822047}]\n",
      "Predict Result: [{'category_id': 1, 'category': '病理性近视眼底', 'score': 0.9996165}, {'category_id': 0, 'category': '非病理性近视眼底', 'score': 0.00038341823}]\n",
      "Predict Result: [{'category_id': 0, 'category': '非病理性近视眼底', 'score': 0.99322647}, {'category_id': 1, 'category': '病理性近视眼底', 'score': 0.0067735226}]\n",
      "Predict Result: [{'category_id': 1, 'category': '病理性近视眼底', 'score': 0.9989955}, {'category_id': 0, 'category': '非病理性近视眼底', 'score': 0.001004525}]\n",
      "Predict Result: [{'category_id': 0, 'category': '非病理性近视眼底', 'score': 0.99553525}, {'category_id': 1, 'category': '病理性近视眼底', 'score': 0.0044647628}]\n",
      "Predict Result: [{'category_id': 0, 'category': '非病理性近视眼底', 'score': 0.99670607}, {'category_id': 1, 'category': '病理性近视眼底', 'score': 0.0032939545}]\n",
      "Predict Result: [{'category_id': 0, 'category': '非病理性近视眼底', 'score': 0.9963303}, {'category_id': 1, 'category': '病理性近视眼底', 'score': 0.0036697153}]\n",
      "Predict Result: [{'category_id': 0, 'category': '非病理性近视眼底', 'score': 0.96807665}, {'category_id': 1, 'category': '病理性近视眼底', 'score': 0.03192334}]\n",
      "Predict Result: [{'category_id': 1, 'category': '病理性近视眼底', 'score': 0.8043172}, {'category_id': 0, 'category': '非病理性近视眼底', 'score': 0.19568291}]\n",
      "Predict Result: [{'category_id': 1, 'category': '病理性近视眼底', 'score': 0.95601207}, {'category_id': 0, 'category': '非病理性近视眼底', 'score': 0.04398792}]\n",
      "Predict Result: [{'category_id': 0, 'category': '非病理性近视眼底', 'score': 0.9672276}, {'category_id': 1, 'category': '病理性近视眼底', 'score': 0.03277243}]\n",
      "Predict Result: [{'category_id': 1, 'category': '病理性近视眼底', 'score': 0.9998764}, {'category_id': 0, 'category': '非病理性近视眼底', 'score': 0.00012358167}]\n",
      "Predict Result: [{'category_id': 1, 'category': '病理性近视眼底', 'score': 0.9975102}, {'category_id': 0, 'category': '非病理性近视眼底', 'score': 0.0024898162}]\n",
      "Predict Result: [{'category_id': 1, 'category': '病理性近视眼底', 'score': 0.9992416}, {'category_id': 0, 'category': '非病理性近视眼底', 'score': 0.00075845834}]\n",
      "Predict Result: [{'category_id': 0, 'category': '非病理性近视眼底', 'score': 0.9910467}, {'category_id': 1, 'category': '病理性近视眼底', 'score': 0.008953241}]\n",
      "Predict Result: [{'category_id': 1, 'category': '病理性近视眼底', 'score': 0.7981338}, {'category_id': 0, 'category': '非病理性近视眼底', 'score': 0.20186621}]\n",
      "Predict Result: [{'category_id': 0, 'category': '非病理性近视眼底', 'score': 0.9865124}, {'category_id': 1, 'category': '病理性近视眼底', 'score': 0.013487614}]\n",
      "Predict Result: [{'category_id': 1, 'category': '病理性近视眼底', 'score': 0.960524}, {'category_id': 0, 'category': '非病理性近视眼底', 'score': 0.039475955}]\n",
      "Predict Result: [{'category_id': 0, 'category': '非病理性近视眼底', 'score': 0.9971706}, {'category_id': 1, 'category': '病理性近视眼底', 'score': 0.0028294392}]\n",
      "Predict Result: [{'category_id': 0, 'category': '非病理性近视眼底', 'score': 0.99566597}, {'category_id': 1, 'category': '病理性近视眼底', 'score': 0.004334032}]\n",
      "Predict Result: [{'category_id': 0, 'category': '非病理性近视眼底', 'score': 0.934131}, {'category_id': 1, 'category': '病理性近视眼底', 'score': 0.06586893}]\n",
      "Predict Result: [{'category_id': 1, 'category': '病理性近视眼底', 'score': 0.9989831}, {'category_id': 0, 'category': '非病理性近视眼底', 'score': 0.0010169346}]\n",
      "Predict Result: [{'category_id': 1, 'category': '病理性近视眼底', 'score': 0.99998915}, {'category_id': 0, 'category': '非病理性近视眼底', 'score': 1.08408785e-05}]\n",
      "Predict Result: [{'category_id': 0, 'category': '非病理性近视眼底', 'score': 0.9735544}, {'category_id': 1, 'category': '病理性近视眼底', 'score': 0.02644563}]\n",
      "Predict Result: [{'category_id': 0, 'category': '非病理性近视眼底', 'score': 0.92302823}, {'category_id': 1, 'category': '病理性近视眼底', 'score': 0.07697181}]\n",
      "Predict Result: [{'category_id': 1, 'category': '病理性近视眼底', 'score': 0.9871617}, {'category_id': 0, 'category': '非病理性近视眼底', 'score': 0.012838257}]\n",
      "Predict Result: [{'category_id': 1, 'category': '病理性近视眼底', 'score': 0.99971753}, {'category_id': 0, 'category': '非病理性近视眼底', 'score': 0.00028246868}]\n",
      "Predict Result: [{'category_id': 1, 'category': '病理性近视眼底', 'score': 0.8536859}, {'category_id': 0, 'category': '非病理性近视眼底', 'score': 0.14631414}]\n",
      "Predict Result: [{'category_id': 1, 'category': '病理性近视眼底', 'score': 0.59713775}, {'category_id': 0, 'category': '非病理性近视眼底', 'score': 0.40286225}]\n",
      "Predict Result: [{'category_id': 1, 'category': '病理性近视眼底', 'score': 0.9837028}, {'category_id': 0, 'category': '非病理性近视眼底', 'score': 0.01629728}]\n",
      "Predict Result: [{'category_id': 1, 'category': '病理性近视眼底', 'score': 0.99986434}, {'category_id': 0, 'category': '非病理性近视眼底', 'score': 0.00013568655}]\n",
      "Predict Result: [{'category_id': 1, 'category': '病理性近视眼底', 'score': 0.9998173}, {'category_id': 0, 'category': '非病理性近视眼底', 'score': 0.00018267655}]\n",
      "Predict Result: [{'category_id': 1, 'category': '病理性近视眼底', 'score': 0.9971418}, {'category_id': 0, 'category': '非病理性近视眼底', 'score': 0.002858216}]\n",
      "Predict Result: [{'category_id': 0, 'category': '非病理性近视眼底', 'score': 0.9895901}, {'category_id': 1, 'category': '病理性近视眼底', 'score': 0.010409856}]\n",
      "Predict Result: [{'category_id': 1, 'category': '病理性近视眼底', 'score': 0.99993014}, {'category_id': 0, 'category': '非病理性近视眼底', 'score': 6.984911e-05}]\n",
      "Predict Result: [{'category_id': 0, 'category': '非病理性近视眼底', 'score': 0.9987897}, {'category_id': 1, 'category': '病理性近视眼底', 'score': 0.0012103529}]\n",
      "Predict Result: [{'category_id': 1, 'category': '病理性近视眼底', 'score': 0.9940147}, {'category_id': 0, 'category': '非病理性近视眼底', 'score': 0.0059853746}]\n",
      "Predict Result: [{'category_id': 0, 'category': '非病理性近视眼底', 'score': 0.99653804}, {'category_id': 1, 'category': '病理性近视眼底', 'score': 0.0034619956}]\n",
      "Predict Result: [{'category_id': 0, 'category': '非病理性近视眼底', 'score': 0.94754124}, {'category_id': 1, 'category': '病理性近视眼底', 'score': 0.052458808}]\n",
      "Predict Result: [{'category_id': 0, 'category': '非病理性近视眼底', 'score': 0.86195534}, {'category_id': 1, 'category': '病理性近视眼底', 'score': 0.13804463}]\n",
      "Predict Result: [{'category_id': 1, 'category': '病理性近视眼底', 'score': 0.99973065}, {'category_id': 0, 'category': '非病理性近视眼底', 'score': 0.0002693646}]\n",
      "Predict Result: [{'category_id': 1, 'category': '病理性近视眼底', 'score': 0.99956423}, {'category_id': 0, 'category': '非病理性近视眼底', 'score': 0.0004357032}]\n",
      "Predict Result: [{'category_id': 0, 'category': '非病理性近视眼底', 'score': 0.8770581}, {'category_id': 1, 'category': '病理性近视眼底', 'score': 0.122941956}]\n",
      "Predict Result: [{'category_id': 0, 'category': '非病理性近视眼底', 'score': 0.9693591}, {'category_id': 1, 'category': '病理性近视眼底', 'score': 0.030640908}]\n",
      "Predict Result: [{'category_id': 0, 'category': '非病理性近视眼底', 'score': 0.99568754}, {'category_id': 1, 'category': '病理性近视眼底', 'score': 0.0043123816}]\n",
      "Predict Result: [{'category_id': 0, 'category': '非病理性近视眼底', 'score': 0.99819285}, {'category_id': 1, 'category': '病理性近视眼底', 'score': 0.0018071041}]\n",
      "Predict Result: [{'category_id': 1, 'category': '病理性近视眼底', 'score': 0.9999918}, {'category_id': 0, 'category': '非病理性近视眼底', 'score': 8.208048e-06}]\n",
      "Predict Result: [{'category_id': 0, 'category': '非病理性近视眼底', 'score': 0.981263}, {'category_id': 1, 'category': '病理性近视眼底', 'score': 0.018736994}]\n",
      "Predict Result: [{'category_id': 0, 'category': '非病理性近视眼底', 'score': 0.9930901}, {'category_id': 1, 'category': '病理性近视眼底', 'score': 0.0069099385}]\n",
      "Predict Result: [{'category_id': 0, 'category': '非病理性近视眼底', 'score': 0.9965076}, {'category_id': 1, 'category': '病理性近视眼底', 'score': 0.0034924103}]\n",
      "Predict Result: [{'category_id': 1, 'category': '病理性近视眼底', 'score': 0.99811673}, {'category_id': 0, 'category': '非病理性近视眼底', 'score': 0.0018833259}]\n",
      "Predict Result: [{'category_id': 1, 'category': '病理性近视眼底', 'score': 0.99938715}, {'category_id': 0, 'category': '非病理性近视眼底', 'score': 0.00061280216}]\n",
      "Predict Result: [{'category_id': 0, 'category': '非病理性近视眼底', 'score': 0.9974699}, {'category_id': 1, 'category': '病理性近视眼底', 'score': 0.0025301436}]\n",
      "Predict Result: [{'category_id': 1, 'category': '病理性近视眼底', 'score': 0.999977}, {'category_id': 0, 'category': '非病理性近视眼底', 'score': 2.2992053e-05}]\n",
      "Predict Result: [{'category_id': 1, 'category': '病理性近视眼底', 'score': 0.99999785}, {'category_id': 0, 'category': '非病理性近视眼底', 'score': 2.185992e-06}]\n",
      "Predict Result: [{'category_id': 0, 'category': '非病理性近视眼底', 'score': 0.99845564}, {'category_id': 1, 'category': '病理性近视眼底', 'score': 0.0015443035}]\n",
      "Predict Result: [{'category_id': 1, 'category': '病理性近视眼底', 'score': 0.9996656}, {'category_id': 0, 'category': '非病理性近视眼底', 'score': 0.0003343841}]\n",
      "Predict Result: [{'category_id': 0, 'category': '非病理性近视眼底', 'score': 0.99906987}, {'category_id': 1, 'category': '病理性近视眼底', 'score': 0.0009301796}]\n",
      "Predict Result: [{'category_id': 1, 'category': '病理性近视眼底', 'score': 0.9999372}, {'category_id': 0, 'category': '非病理性近视眼底', 'score': 6.287475e-05}]\n",
      "Predict Result: [{'category_id': 0, 'category': '非病理性近视眼底', 'score': 0.9974884}, {'category_id': 1, 'category': '病理性近视眼底', 'score': 0.0025116284}]\n",
      "Predict Result: [{'category_id': 1, 'category': '病理性近视眼底', 'score': 0.9998324}, {'category_id': 0, 'category': '非病理性近视眼底', 'score': 0.00016760398}]\n",
      "Predict Result: [{'category_id': 1, 'category': '病理性近视眼底', 'score': 0.99998224}, {'category_id': 0, 'category': '非病理性近视眼底', 'score': 1.7709883e-05}]\n",
      "Predict Result: [{'category_id': 1, 'category': '病理性近视眼底', 'score': 0.99380267}, {'category_id': 0, 'category': '非病理性近视眼底', 'score': 0.0061973203}]\n",
      "Predict Result: [{'category_id': 1, 'category': '病理性近视眼底', 'score': 0.9930936}, {'category_id': 0, 'category': '非病理性近视眼底', 'score': 0.006906405}]\n",
      "Predict Result: [{'category_id': 0, 'category': '非病理性近视眼底', 'score': 0.9957141}, {'category_id': 1, 'category': '病理性近视眼底', 'score': 0.0042858324}]\n",
      "Predict Result: [{'category_id': 1, 'category': '病理性近视眼底', 'score': 0.6692739}, {'category_id': 0, 'category': '非病理性近视眼底', 'score': 0.33072612}]\n",
      "Predict Result: [{'category_id': 1, 'category': '病理性近视眼底', 'score': 0.9996927}, {'category_id': 0, 'category': '非病理性近视眼底', 'score': 0.00030735284}]\n",
      "Predict Result: [{'category_id': 0, 'category': '非病理性近视眼底', 'score': 0.9772652}, {'category_id': 1, 'category': '病理性近视眼底', 'score': 0.022734754}]\n",
      "Predict Result: [{'category_id': 1, 'category': '病理性近视眼底', 'score': 0.99971}, {'category_id': 0, 'category': '非病理性近视眼底', 'score': 0.00028997168}]\n",
      "Predict Result: [{'category_id': 1, 'category': '病理性近视眼底', 'score': 0.9312947}, {'category_id': 0, 'category': '非病理性近视眼底', 'score': 0.068705276}]\n",
      "Predict Result: [{'category_id': 0, 'category': '非病理性近视眼底', 'score': 0.9988404}, {'category_id': 1, 'category': '病理性近视眼底', 'score': 0.0011596362}]\n",
      "Predict Result: [{'category_id': 0, 'category': '非病理性近视眼底', 'score': 0.997914}, {'category_id': 1, 'category': '病理性近视眼底', 'score': 0.002085978}]\n",
      "Predict Result: [{'category_id': 1, 'category': '病理性近视眼底', 'score': 0.9986274}, {'category_id': 0, 'category': '非病理性近视眼底', 'score': 0.0013725726}]\n",
      "Predict Result: [{'category_id': 0, 'category': '非病理性近视眼底', 'score': 0.9988967}, {'category_id': 1, 'category': '病理性近视眼底', 'score': 0.001103281}]\n",
      "Predict Result: [{'category_id': 0, 'category': '非病理性近视眼底', 'score': 0.99668115}, {'category_id': 1, 'category': '病理性近视眼底', 'score': 0.0033188104}]\n",
      "Predict Result: [{'category_id': 0, 'category': '非病理性近视眼底', 'score': 0.98837614}, {'category_id': 1, 'category': '病理性近视眼底', 'score': 0.01162387}]\n",
      "Predict Result: [{'category_id': 0, 'category': '非病理性近视眼底', 'score': 0.86195534}, {'category_id': 1, 'category': '病理性近视眼底', 'score': 0.13804463}]\n",
      "Predict Result: [{'category_id': 0, 'category': '非病理性近视眼底', 'score': 0.99016035}, {'category_id': 1, 'category': '病理性近视眼底', 'score': 0.009839645}]\n",
      "Predict Result: [{'category_id': 1, 'category': '病理性近视眼底', 'score': 0.9996755}, {'category_id': 0, 'category': '非病理性近视眼底', 'score': 0.00032446647}]\n",
      "Predict Result: [{'category_id': 1, 'category': '病理性近视眼底', 'score': 0.61965007}, {'category_id': 0, 'category': '非病理性近视眼底', 'score': 0.38034996}]\n",
      "Predict Result: [{'category_id': 0, 'category': '非病理性近视眼底', 'score': 0.9992424}, {'category_id': 1, 'category': '病理性近视眼底', 'score': 0.0007575434}]\n",
      "Predict Result: [{'category_id': 0, 'category': '非病理性近视眼底', 'score': 0.9981833}, {'category_id': 1, 'category': '病理性近视眼底', 'score': 0.0018166552}]\n",
      "Predict Result: [{'category_id': 0, 'category': '非病理性近视眼底', 'score': 0.988315}, {'category_id': 1, 'category': '病理性近视眼底', 'score': 0.011685078}]\n",
      "Predict Result: [{'category_id': 0, 'category': '非病理性近视眼底', 'score': 0.9911225}, {'category_id': 1, 'category': '病理性近视眼底', 'score': 0.008877512}]\n",
      "Predict Result: [{'category_id': 0, 'category': '非病理性近视眼底', 'score': 0.9960602}, {'category_id': 1, 'category': '病理性近视眼底', 'score': 0.003939755}]\n",
      "Predict Result: [{'category_id': 0, 'category': '非病理性近视眼底', 'score': 0.9719372}, {'category_id': 1, 'category': '病理性近视眼底', 'score': 0.028062848}]\n",
      "Predict Result: [{'category_id': 0, 'category': '非病理性近视眼底', 'score': 0.9949785}, {'category_id': 1, 'category': '病理性近视眼底', 'score': 0.0050215553}]\n",
      "Predict Result: [{'category_id': 0, 'category': '非病理性近视眼底', 'score': 0.7457054}, {'category_id': 1, 'category': '病理性近视眼底', 'score': 0.25429457}]\n",
      "Predict Result: [{'category_id': 0, 'category': '非病理性近视眼底', 'score': 0.97909224}, {'category_id': 1, 'category': '病理性近视眼底', 'score': 0.020907693}]\n",
      "Predict Result: [{'category_id': 1, 'category': '病理性近视眼底', 'score': 0.9998431}, {'category_id': 0, 'category': '非病理性近视眼底', 'score': 0.00015688913}]\n",
      "Predict Result: [{'category_id': 1, 'category': '病理性近视眼底', 'score': 0.99966085}, {'category_id': 0, 'category': '非病理性近视眼底', 'score': 0.00033918244}]\n",
      "Predict Result: [{'category_id': 0, 'category': '非病理性近视眼底', 'score': 0.9976889}, {'category_id': 1, 'category': '病理性近视眼底', 'score': 0.0023111668}]\n",
      "Predict Result: [{'category_id': 0, 'category': '非病理性近视眼底', 'score': 0.9979645}, {'category_id': 1, 'category': '病理性近视眼底', 'score': 0.00203556}]\n",
      "Predict Result: [{'category_id': 1, 'category': '病理性近视眼底', 'score': 0.97629344}, {'category_id': 0, 'category': '非病理性近视眼底', 'score': 0.023706563}]\n",
      "Predict Result: [{'category_id': 0, 'category': '非病理性近视眼底', 'score': 0.9957463}, {'category_id': 1, 'category': '病理性近视眼底', 'score': 0.0042537106}]\n",
      "Predict Result: [{'category_id': 0, 'category': '非病理性近视眼底', 'score': 0.99380726}, {'category_id': 1, 'category': '病理性近视眼底', 'score': 0.0061926814}]\n",
      "Predict Result: [{'category_id': 1, 'category': '病理性近视眼底', 'score': 0.9996525}, {'category_id': 0, 'category': '非病理性近视眼底', 'score': 0.00034746816}]\n",
      "Predict Result: [{'category_id': 0, 'category': '非病理性近视眼底', 'score': 0.9809506}, {'category_id': 1, 'category': '病理性近视眼底', 'score': 0.019049348}]\n",
      "Predict Result: [{'category_id': 0, 'category': '非病理性近视眼底', 'score': 0.9910256}, {'category_id': 1, 'category': '病理性近视眼底', 'score': 0.008974354}]\n",
      "Predict Result: [{'category_id': 0, 'category': '非病理性近视眼底', 'score': 0.9975132}, {'category_id': 1, 'category': '病理性近视眼底', 'score': 0.002486862}]\n",
      "Predict Result: [{'category_id': 0, 'category': '非病理性近视眼底', 'score': 0.98348}, {'category_id': 1, 'category': '病理性近视眼底', 'score': 0.01652004}]\n",
      "Predict Result: [{'category_id': 1, 'category': '病理性近视眼底', 'score': 0.9988575}, {'category_id': 0, 'category': '非病理性近视眼底', 'score': 0.0011425229}]\n",
      "Predict Result: [{'category_id': 1, 'category': '病理性近视眼底', 'score': 0.9999367}, {'category_id': 0, 'category': '非病理性近视眼底', 'score': 6.324849e-05}]\n",
      "Predict Result: [{'category_id': 0, 'category': '非病理性近视眼底', 'score': 0.9744144}, {'category_id': 1, 'category': '病理性近视眼底', 'score': 0.025585545}]\n",
      "Predict Result: [{'category_id': 1, 'category': '病理性近视眼底', 'score': 0.99989545}, {'category_id': 0, 'category': '非病理性近视眼底', 'score': 0.00010447641}]\n",
      "Predict Result: [{'category_id': 1, 'category': '病理性近视眼底', 'score': 0.9991072}, {'category_id': 0, 'category': '非病理性近视眼底', 'score': 0.0008928448}]\n",
      "Predict Result: [{'category_id': 0, 'category': '非病理性近视眼底', 'score': 0.9236218}, {'category_id': 1, 'category': '病理性近视眼底', 'score': 0.07637821}]\n",
      "Predict Result: [{'category_id': 0, 'category': '非病理性近视眼底', 'score': 0.88661146}, {'category_id': 1, 'category': '病理性近视眼底', 'score': 0.113388546}]\n",
      "Predict Result: [{'category_id': 0, 'category': '非病理性近视眼底', 'score': 0.998251}, {'category_id': 1, 'category': '病理性近视眼底', 'score': 0.0017489942}]\n",
      "Predict Result: [{'category_id': 1, 'category': '病理性近视眼底', 'score': 0.9976496}, {'category_id': 0, 'category': '非病理性近视眼底', 'score': 0.0023503532}]\n",
      "Predict Result: [{'category_id': 1, 'category': '病理性近视眼底', 'score': 0.9996101}, {'category_id': 0, 'category': '非病理性近视眼底', 'score': 0.0003898489}]\n",
      "Predict Result: [{'category_id': 1, 'category': '病理性近视眼底', 'score': 0.99928254}, {'category_id': 0, 'category': '非病理性近视眼底', 'score': 0.0007174669}]\n",
      "Predict Result: [{'category_id': 0, 'category': '非病理性近视眼底', 'score': 0.99088305}, {'category_id': 1, 'category': '病理性近视眼底', 'score': 0.009116919}]\n",
      "Predict Result: [{'category_id': 0, 'category': '非病理性近视眼底', 'score': 0.9939388}, {'category_id': 1, 'category': '病理性近视眼底', 'score': 0.0060612382}]\n",
      "Predict Result: [{'category_id': 0, 'category': '非病理性近视眼底', 'score': 0.96120864}, {'category_id': 1, 'category': '病理性近视眼底', 'score': 0.038791317}]\n",
      "Predict Result: [{'category_id': 1, 'category': '病理性近视眼底', 'score': 0.99962616}, {'category_id': 0, 'category': '非病理性近视眼底', 'score': 0.00037383338}]\n",
      "Predict Result: [{'category_id': 1, 'category': '病理性近视眼底', 'score': 0.9995732}, {'category_id': 0, 'category': '非病理性近视眼底', 'score': 0.00042687208}]\n",
      "Predict Result: [{'category_id': 0, 'category': '非病理性近视眼底', 'score': 0.5950539}, {'category_id': 1, 'category': '病理性近视眼底', 'score': 0.4049461}]\n",
      "Predict Result: [{'category_id': 0, 'category': '非病理性近视眼底', 'score': 0.9666272}, {'category_id': 1, 'category': '病理性近视眼底', 'score': 0.033372816}]\n",
      "Predict Result: [{'category_id': 1, 'category': '病理性近视眼底', 'score': 0.9997683}, {'category_id': 0, 'category': '非病理性近视眼底', 'score': 0.0002316378}]\n",
      "Predict Result: [{'category_id': 0, 'category': '非病理性近视眼底', 'score': 0.9968092}, {'category_id': 1, 'category': '病理性近视眼底', 'score': 0.0031907763}]\n",
      "Predict Result: [{'category_id': 0, 'category': '非病理性近视眼底', 'score': 0.9984836}, {'category_id': 1, 'category': '病理性近视眼底', 'score': 0.0015164231}]\n",
      "Predict Result: [{'category_id': 1, 'category': '病理性近视眼底', 'score': 0.9877265}, {'category_id': 0, 'category': '非病理性近视眼底', 'score': 0.012273548}]\n",
      "Predict Result: [{'category_id': 0, 'category': '非病理性近视眼底', 'score': 0.9990439}, {'category_id': 1, 'category': '病理性近视眼底', 'score': 0.0009561327}]\n",
      "Predict Result: [{'category_id': 0, 'category': '非病理性近视眼底', 'score': 0.9749229}, {'category_id': 1, 'category': '病理性近视眼底', 'score': 0.025077127}]\n",
      "Predict Result: [{'category_id': 0, 'category': '非病理性近视眼底', 'score': 0.9980678}, {'category_id': 1, 'category': '病理性近视眼底', 'score': 0.0019322372}]\n",
      "Predict Result: [{'category_id': 1, 'category': '病理性近视眼底', 'score': 0.76167524}, {'category_id': 0, 'category': '非病理性近视眼底', 'score': 0.2383248}]\n",
      "Predict Result: [{'category_id': 0, 'category': '非病理性近视眼底', 'score': 0.92702556}, {'category_id': 1, 'category': '病理性近视眼底', 'score': 0.072974436}]\n",
      "Predict Result: [{'category_id': 1, 'category': '病理性近视眼底', 'score': 0.99931777}, {'category_id': 0, 'category': '非病理性近视眼底', 'score': 0.00068223005}]\n",
      "Predict Result: [{'category_id': 0, 'category': '非病理性近视眼底', 'score': 0.95663553}, {'category_id': 1, 'category': '病理性近视眼底', 'score': 0.043364424}]\n",
      "Predict Result: [{'category_id': 1, 'category': '病理性近视眼底', 'score': 0.9995771}, {'category_id': 0, 'category': '非病理性近视眼底', 'score': 0.00042286323}]\n",
      "Predict Result: [{'category_id': 1, 'category': '病理性近视眼底', 'score': 0.9559826}, {'category_id': 0, 'category': '非病理性近视眼底', 'score': 0.044017367}]\n",
      "Predict Result: [{'category_id': 1, 'category': '病理性近视眼底', 'score': 0.99852544}, {'category_id': 0, 'category': '非病理性近视眼底', 'score': 0.001474603}]\n",
      "Predict Result: [{'category_id': 0, 'category': '非病理性近视眼底', 'score': 0.99739444}, {'category_id': 1, 'category': '病理性近视眼底', 'score': 0.0026055397}]\n",
      "Predict Result: [{'category_id': 1, 'category': '病理性近视眼底', 'score': 0.99888545}, {'category_id': 0, 'category': '非病理性近视眼底', 'score': 0.0011145168}]\n",
      "Predict Result: [{'category_id': 1, 'category': '病理性近视眼底', 'score': 0.94634205}, {'category_id': 0, 'category': '非病理性近视眼底', 'score': 0.05365797}]\n",
      "Predict Result: [{'category_id': 1, 'category': '病理性近视眼底', 'score': 0.99784625}, {'category_id': 0, 'category': '非病理性近视眼底', 'score': 0.002153783}]\n",
      "Predict Result: [{'category_id': 1, 'category': '病理性近视眼底', 'score': 0.9508537}, {'category_id': 0, 'category': '非病理性近视眼底', 'score': 0.049146295}]\n",
      "Predict Result: [{'category_id': 0, 'category': '非病理性近视眼底', 'score': 0.99356973}, {'category_id': 1, 'category': '病理性近视眼底', 'score': 0.0064302413}]\n",
      "Predict Result: [{'category_id': 1, 'category': '病理性近视眼底', 'score': 0.9383353}, {'category_id': 0, 'category': '非病理性近视眼底', 'score': 0.061664704}]\n",
      "Predict Result: [{'category_id': 1, 'category': '病理性近视眼底', 'score': 0.9732704}, {'category_id': 0, 'category': '非病理性近视眼底', 'score': 0.02672962}]\n",
      "Predict Result: [{'category_id': 1, 'category': '病理性近视眼底', 'score': 0.999703}, {'category_id': 0, 'category': '非病理性近视眼底', 'score': 0.00029696838}]\n",
      "Predict Result: [{'category_id': 1, 'category': '病理性近视眼底', 'score': 0.99924576}, {'category_id': 0, 'category': '非病理性近视眼底', 'score': 0.00075429864}]\n",
      "Predict Result: [{'category_id': 1, 'category': '病理性近视眼底', 'score': 0.9999628}, {'category_id': 0, 'category': '非病理性近视眼底', 'score': 3.719451e-05}]\n",
      "Predict Result: [{'category_id': 1, 'category': '病理性近视眼底', 'score': 0.68173295}, {'category_id': 0, 'category': '非病理性近视眼底', 'score': 0.31826705}]\n",
      "Predict Result: [{'category_id': 0, 'category': '非病理性近视眼底', 'score': 0.83180857}, {'category_id': 1, 'category': '病理性近视眼底', 'score': 0.16819142}]\n",
      "Predict Result: [{'category_id': 1, 'category': '病理性近视眼底', 'score': 0.9986456}, {'category_id': 0, 'category': '非病理性近视眼底', 'score': 0.0013543854}]\n",
      "Predict Result: [{'category_id': 0, 'category': '非病理性近视眼底', 'score': 0.99597436}, {'category_id': 1, 'category': '病理性近视眼底', 'score': 0.004025612}]\n",
      "Predict Result: [{'category_id': 0, 'category': '非病理性近视眼底', 'score': 0.9995552}, {'category_id': 1, 'category': '病理性近视眼底', 'score': 0.00044475432}]\n",
      "Predict Result: [{'category_id': 1, 'category': '病理性近视眼底', 'score': 0.99909174}, {'category_id': 0, 'category': '非病理性近视眼底', 'score': 0.0009082239}]\n",
      "Predict Result: [{'category_id': 1, 'category': '病理性近视眼底', 'score': 0.9132942}, {'category_id': 0, 'category': '非病理性近视眼底', 'score': 0.08670578}]\n",
      "Predict Result: [{'category_id': 0, 'category': '非病理性近视眼底', 'score': 0.9987306}, {'category_id': 1, 'category': '病理性近视眼底', 'score': 0.0012694291}]\n",
      "Predict Result: [{'category_id': 0, 'category': '非病理性近视眼底', 'score': 0.9926851}, {'category_id': 1, 'category': '病理性近视眼底', 'score': 0.007314897}]\n",
      "Predict Result: [{'category_id': 0, 'category': '非病理性近视眼底', 'score': 0.96550125}, {'category_id': 1, 'category': '病理性近视眼底', 'score': 0.03449879}]\n",
      "Predict Result: [{'category_id': 1, 'category': '病理性近视眼底', 'score': 0.9998851}, {'category_id': 0, 'category': '非病理性近视眼底', 'score': 0.00011492713}]\n",
      "Predict Result: [{'category_id': 0, 'category': '非病理性近视眼底', 'score': 0.9968394}, {'category_id': 1, 'category': '病理性近视眼底', 'score': 0.0031605314}]\n",
      "Predict Result: [{'category_id': 0, 'category': '非病理性近视眼底', 'score': 0.90440637}, {'category_id': 1, 'category': '病理性近视眼底', 'score': 0.0955936}]\n",
      "Predict Result: [{'category_id': 1, 'category': '病理性近视眼底', 'score': 0.9377841}, {'category_id': 0, 'category': '非病理性近视眼底', 'score': 0.0622159}]\n",
      "Predict Result: [{'category_id': 1, 'category': '病理性近视眼底', 'score': 0.91975874}, {'category_id': 0, 'category': '非病理性近视眼底', 'score': 0.08024122}]\n",
      "Predict Result: [{'category_id': 1, 'category': '病理性近视眼底', 'score': 0.9437128}, {'category_id': 0, 'category': '非病理性近视眼底', 'score': 0.05628725}]\n",
      "Predict Result: [{'category_id': 1, 'category': '病理性近视眼底', 'score': 0.98921597}, {'category_id': 0, 'category': '非病理性近视眼底', 'score': 0.010783966}]\n",
      "Predict Result: [{'category_id': 1, 'category': '病理性近视眼底', 'score': 0.99998116}, {'category_id': 0, 'category': '非病理性近视眼底', 'score': 1.8872739e-05}]\n",
      "Predict Result: [{'category_id': 1, 'category': '病理性近视眼底', 'score': 0.9999523}, {'category_id': 0, 'category': '非病理性近视眼底', 'score': 4.7711488e-05}]\n",
      "Predict Result: [{'category_id': 1, 'category': '病理性近视眼底', 'score': 0.7603858}, {'category_id': 0, 'category': '非病理性近视眼底', 'score': 0.23961422}]\n",
      "Predict Result: [{'category_id': 1, 'category': '病理性近视眼底', 'score': 0.97211623}, {'category_id': 0, 'category': '非病理性近视眼底', 'score': 0.0278837}]\n",
      "Predict Result: [{'category_id': 1, 'category': '病理性近视眼底', 'score': 0.9997708}, {'category_id': 0, 'category': '非病理性近视眼底', 'score': 0.00022922504}]\n",
      "Predict Result: [{'category_id': 0, 'category': '非病理性近视眼底', 'score': 0.99567336}, {'category_id': 1, 'category': '病理性近视眼底', 'score': 0.0043266476}]\n",
      "Predict Result: [{'category_id': 0, 'category': '非病理性近视眼底', 'score': 0.98632425}, {'category_id': 1, 'category': '病理性近视眼底', 'score': 0.013675759}]\n",
      "Predict Result: [{'category_id': 1, 'category': '病理性近视眼底', 'score': 0.9998629}, {'category_id': 0, 'category': '非病理性近视眼底', 'score': 0.00013705778}]\n",
      "Predict Result: [{'category_id': 0, 'category': '非病理性近视眼底', 'score': 0.64954007}, {'category_id': 1, 'category': '病理性近视眼底', 'score': 0.35045993}]\n",
      "Predict Result: [{'category_id': 1, 'category': '病理性近视眼底', 'score': 0.9996699}, {'category_id': 0, 'category': '非病理性近视眼底', 'score': 0.00033006773}]\n",
      "Predict Result: [{'category_id': 0, 'category': '非病理性近视眼底', 'score': 0.9955641}, {'category_id': 1, 'category': '病理性近视眼底', 'score': 0.004435904}]\n",
      "Predict Result: [{'category_id': 0, 'category': '非病理性近视眼底', 'score': 0.99035794}, {'category_id': 1, 'category': '病理性近视眼底', 'score': 0.009642081}]\n",
      "Predict Result: [{'category_id': 0, 'category': '非病理性近视眼底', 'score': 0.8268529}, {'category_id': 1, 'category': '病理性近视眼底', 'score': 0.17314713}]\n",
      "Predict Result: [{'category_id': 0, 'category': '非病理性近视眼底', 'score': 0.9969855}, {'category_id': 1, 'category': '病理性近视眼底', 'score': 0.003014501}]\n",
      "Predict Result: [{'category_id': 0, 'category': '非病理性近视眼底', 'score': 0.99932015}, {'category_id': 1, 'category': '病理性近视眼底', 'score': 0.00067984936}]\n",
      "Predict Result: [{'category_id': 0, 'category': '非病理性近视眼底', 'score': 0.9880207}, {'category_id': 1, 'category': '病理性近视眼底', 'score': 0.011979291}]\n",
      "Predict Result: [{'category_id': 1, 'category': '病理性近视眼底', 'score': 0.9996947}, {'category_id': 0, 'category': '非病理性近视眼底', 'score': 0.00030530585}]\n",
      "Predict Result: [{'category_id': 1, 'category': '病理性近视眼底', 'score': 0.99960095}, {'category_id': 0, 'category': '非病理性近视眼底', 'score': 0.0003990546}]\n",
      "Predict Result: [{'category_id': 0, 'category': '非病理性近视眼底', 'score': 0.96144474}, {'category_id': 1, 'category': '病理性近视眼底', 'score': 0.03855532}]\n",
      "Predict Result: [{'category_id': 0, 'category': '非病理性近视眼底', 'score': 0.92702556}, {'category_id': 1, 'category': '病理性近视眼底', 'score': 0.072974436}]\n",
      "Predict Result: [{'category_id': 0, 'category': '非病理性近视眼底', 'score': 0.93006647}, {'category_id': 1, 'category': '病理性近视眼底', 'score': 0.06993356}]\n",
      "Predict Result: [{'category_id': 1, 'category': '病理性近视眼底', 'score': 0.9999758}, {'category_id': 0, 'category': '非病理性近视眼底', 'score': 2.4231422e-05}]\n",
      "Predict Result: [{'category_id': 1, 'category': '病理性近视眼底', 'score': 0.99757534}, {'category_id': 0, 'category': '非病理性近视眼底', 'score': 0.002424628}]\n",
      "Predict Result: [{'category_id': 1, 'category': '病理性近视眼底', 'score': 0.9998155}, {'category_id': 0, 'category': '非病理性近视眼底', 'score': 0.00018451747}]\n",
      "Predict Result: [{'category_id': 1, 'category': '病理性近视眼底', 'score': 0.95734596}, {'category_id': 0, 'category': '非病理性近视眼底', 'score': 0.042654075}]\n",
      "Predict Result: [{'category_id': 1, 'category': '病理性近视眼底', 'score': 0.9973562}, {'category_id': 0, 'category': '非病理性近视眼底', 'score': 0.00264387}]\n",
      "Predict Result: [{'category_id': 1, 'category': '病理性近视眼底', 'score': 0.99498016}, {'category_id': 0, 'category': '非病理性近视眼底', 'score': 0.0050198566}]\n",
      "Predict Result: [{'category_id': 1, 'category': '病理性近视眼底', 'score': 0.99967897}, {'category_id': 0, 'category': '非病理性近视眼底', 'score': 0.00032109415}]\n",
      "Predict Result: [{'category_id': 0, 'category': '非病理性近视眼底', 'score': 0.988062}, {'category_id': 1, 'category': '病理性近视眼底', 'score': 0.011938028}]\n",
      "Predict Result: [{'category_id': 1, 'category': '病理性近视眼底', 'score': 0.99779403}, {'category_id': 0, 'category': '非病理性近视眼底', 'score': 0.002206022}]\n"
     ]
    }
   ],
   "source": [
    "#批量预测\n",
    "import paddlex as pdx\n",
    "\n",
    "result_list=[]\n",
    "model = pdx.load_model('output/mobilenetv3_small_1015_1/best_model')\n",
    "for image_name in val_list:\n",
    "    result = model.predict(image_name, topk=2)\n",
    "    result_list.append(result)\n",
    "    print(\"Predict Result:\", result)"
   ]
  },
  {
   "cell_type": "code",
   "execution_count": null,
   "metadata": {
    "collapsed": false,
    "jupyter": {
     "outputs_hidden": false
    },
    "scrolled": true
   },
   "outputs": [
    {
     "name": "stdout",
     "output_type": "stream",
     "text": [
      "[{'category_id': 1, 'category': '病理性近视眼底', 'score': 0.9998215}, {'category_id': 0, 'category': '非病理性近视眼底', 'score': 0.00017851777}]\n",
      "1 0.9998215\n",
      "0 0.00017851777\n"
     ]
    }
   ],
   "source": [
    "#结果检查\n",
    "item = result_list[0]\n",
    "print(item)\n",
    "print(item[0]['category_id'],item[0]['score'])\n",
    "print(item[1]['category_id'],item[1]['score'])"
   ]
  },
  {
   "cell_type": "markdown",
   "metadata": {},
   "source": [
    "# 构造pandas dataframe"
   ]
  },
  {
   "cell_type": "code",
   "execution_count": null,
   "metadata": {
    "collapsed": false,
    "jupyter": {
     "outputs_hidden": false
    },
    "scrolled": true
   },
   "outputs": [],
   "source": [
    "# 结果列\n",
    "pd_B=[]\n",
    "for item in result_list:\n",
    "    # print(item)\n",
    "    if item[0]['category_id']==1:\n",
    "        pd_B.append(item[0]['score'])\n",
    "    else:\n",
    "        pd_B.append(item[1]['score'])"
   ]
  },
  {
   "cell_type": "code",
   "execution_count": null,
   "metadata": {
    "collapsed": false,
    "jupyter": {
     "outputs_hidden": false
    },
    "scrolled": true
   },
   "outputs": [],
   "source": [
    "\n",
    "# 文件名列\n",
    "pd_A=[]\n",
    "with open('val_list.txt', 'r') as f:\n",
    "    for line in f:\n",
    "        pd_A.append(line.split('\\n')[0])\n",
    "        # print(line.split('\\n')[0])"
   ]
  },
  {
   "cell_type": "code",
   "execution_count": null,
   "metadata": {
    "collapsed": false,
    "jupyter": {
     "outputs_hidden": false
    },
    "scrolled": true
   },
   "outputs": [],
   "source": [
    "\n",
    "# 构造pandas的DataFrame\n",
    "import pandas as pd\n",
    "df= pd.DataFrame({'FileName': pd_A, 'PM Risk':pd_B})"
   ]
  },
  {
   "cell_type": "code",
   "execution_count": null,
   "metadata": {
    "collapsed": false,
    "jupyter": {
     "outputs_hidden": false
    },
    "scrolled": true
   },
   "outputs": [],
   "source": [
    "# 保存为提交文件\n",
    "df.to_csv(\"1015-结果1/Classification_Results.csv\", index=None)"
   ]
  },
  {
   "cell_type": "code",
   "execution_count": null,
   "metadata": {
    "collapsed": false,
    "jupyter": {
     "outputs_hidden": false
    },
    "scrolled": true
   },
   "outputs": [],
   "source": [
    "!zip -q Classification_Results.zip Classification_Results.csv"
   ]
  },
  {
   "cell_type": "markdown",
   "metadata": {},
   "source": [
    "# 总结\n",
    "\n",
    "mobilenetv3为轻量级网络，下个月可以试一下更大的网络，比如inception_v3\n",
    "## 参考资料\n",
    "\n",
    "### paddle vision：\n",
    "\n",
    "https://www.paddlepaddle.org.cn/documentation/docs/zh/api/paddle/vision/Overview_cn.html\n",
    "\n",
    "### paddle 图像增强：\n",
    "\n",
    "https://www.paddlepaddle.org.cn/documentation/docs/zh/api/paddle/vision/transforms/adjust_brightness_cn.html\n",
    "\n",
    "### k-fold 验证：\n",
    "\n",
    "图灵丛书《Deep Learning with Python》，中文名《Python 深度学习》\n",
    "\n",
    "### resnet 论文：\n",
    "\n",
    "https://arxiv.org/abs/1512.03385\n",
    "\n",
    "### 病理性近视预测相关论文：\n",
    "\n",
    "https://aistudio.baidu.com/aistudio/competition/detail/85"
   ]
  }
 ],
 "metadata": {
  "kernelspec": {
   "display_name": "Python 3",
   "language": "python",
   "name": "py35-paddle1.2.0"
  },
  "language_info": {
   "codemirror_mode": {
    "name": "ipython",
    "version": 3
   },
   "file_extension": ".py",
   "mimetype": "text/x-python",
   "name": "python",
   "nbconvert_exporter": "python",
   "pygments_lexer": "ipython3",
   "version": "3.7.4"
  }
 },
 "nbformat": 4,
 "nbformat_minor": 4
}
